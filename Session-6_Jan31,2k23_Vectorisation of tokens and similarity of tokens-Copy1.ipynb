{
 "cells": [
  {
   "cell_type": "markdown",
   "id": "1b6eaaed",
   "metadata": {},
   "source": [
    "\n",
    "## Vectorisation of tokens and similarity of documents"
   ]
  },
  {
   "cell_type": "code",
   "execution_count": 3,
   "id": "2a09aaba",
   "metadata": {},
   "outputs": [],
   "source": [
    "# 1. Bag of Words\n",
    "# 2. TFIDF (Term Frequency Inverse Document Frequency)\n",
    "# 3. Word 2 Vec"
   ]
  },
  {
   "cell_type": "code",
   "execution_count": 2,
   "id": "9f06020a",
   "metadata": {},
   "outputs": [
    {
     "name": "stdout",
     "output_type": "stream",
     "text": [
      "Requirement already satisfied: gensim in c:\\users\\lenovo\\anaconda3\\lib\\site-packages (4.1.2)\n",
      "Requirement already satisfied: numpy>=1.17.0 in c:\\users\\lenovo\\anaconda3\\lib\\site-packages (from gensim) (1.21.5)\n",
      "Requirement already satisfied: smart-open>=1.8.1 in c:\\users\\lenovo\\anaconda3\\lib\\site-packages (from gensim) (6.3.0)\n",
      "Requirement already satisfied: scipy>=0.18.1 in c:\\users\\lenovo\\anaconda3\\lib\\site-packages (from gensim) (1.7.3)\n"
     ]
    },
    {
     "name": "stderr",
     "output_type": "stream",
     "text": [
      "\n",
      "[notice] A new release of pip available: 22.3.1 -> 23.0\n",
      "[notice] To update, run: python.exe -m pip install --upgrade pip\n"
     ]
    }
   ],
   "source": [
    "!pip install gensim"
   ]
  },
  {
   "cell_type": "code",
   "execution_count": 4,
   "id": "928fc291",
   "metadata": {},
   "outputs": [],
   "source": [
    "import gensim\n",
    "import spacy\n",
    "nlp=spacy.load('en_core_web_sm')"
   ]
  },
  {
   "cell_type": "markdown",
   "id": "81cce1ad",
   "metadata": {},
   "source": [
    "## Create Documents"
   ]
  },
  {
   "cell_type": "code",
   "execution_count": 39,
   "id": "88b27566",
   "metadata": {},
   "outputs": [],
   "source": [
    "doc_1='''Chat GPT is a highly popular AI-based program that people use for generating dialogues. The chatbot has a language-based model that the developer fine-tunes for human interaction in a conversational manner. \n",
    "\n",
    "It’s a simulated chatbot primarily designed for customer service; people use it for various other purposes. But what is it? If you are new to this Chat GPT, this guide is for you, so continue reading. \n",
    "\n",
    "What’s Chat GPT?\n",
    "Chat GPT is an AI chatbot auto-generative system created by Open AI for online customer care. It is a pre-trained generative chat, which makes use of (NLP) Natural Language Processing. The source of its data is textbooks, websites, and various articles, which it uses to model its own language for responding to human interaction.'''"
   ]
  },
  {
   "cell_type": "code",
   "execution_count": 40,
   "id": "9053f4ee",
   "metadata": {},
   "outputs": [
    {
     "data": {
      "text/plain": [
       "'Chat GPT is a highly popular AI-based program that people use for generating dialogues. The chatbot has a language-based model that the developer fine-tunes for human interaction in a conversational manner. \\n\\nIt’s a simulated chatbot primarily designed for customer service; people use it for various other purposes. But what is it? If you are new to this Chat GPT, this guide is for you, so continue reading. \\n\\nWhat’s Chat GPT?\\nChat GPT is an AI chatbot auto-generative system created by Open AI for online customer care. It is a pre-trained generative chat, which makes use of (NLP) Natural Language Processing. The source of its data is textbooks, websites, and various articles, which it uses to model its own language for responding to human interaction.'"
      ]
     },
     "execution_count": 40,
     "metadata": {},
     "output_type": "execute_result"
    }
   ],
   "source": [
    "doc_1"
   ]
  },
  {
   "cell_type": "code",
   "execution_count": 41,
   "id": "8368f3ab",
   "metadata": {},
   "outputs": [],
   "source": [
    "doc_2='''Everyone has an opinion about Chat-GPT and AI. Engineers and entrepreneurs see it as a new frontier: a bold new world to invent products, services, and solutions. Social scientists and journalists are worried, with one prominent NYT author Ezra Klein calling it an “information warfare machine.” What has god wrought?\n",
    "\n",
    "Let me just say up front, I see enormous possibilities here. And as with all new technologies, we cannot fully predict the impact quite yet. There will be problems and failures, but the ultimate story is “hooray.”\n",
    "\n",
    "What Is Chat-GPT?\n",
    "\n",
    "To put it quite simply, this technology (and there are many others like it) is what is often called a “language machine” that uses statistics, reinforcement learning, and supervised learning to index words, phrases, and sentences. While it has no real “intelligence” (it doesn’t know what a word “means” but it knows how it is used), it can very effectively answer questions, write articles, summarize information, and more.'''"
   ]
  },
  {
   "cell_type": "code",
   "execution_count": 42,
   "id": "3606b882",
   "metadata": {},
   "outputs": [
    {
     "data": {
      "text/plain": [
       "'Everyone has an opinion about Chat-GPT and AI. Engineers and entrepreneurs see it as a new frontier: a bold new world to invent products, services, and solutions. Social scientists and journalists are worried, with one prominent NYT author Ezra Klein calling it an “information warfare machine.” What has god wrought?\\n\\nLet me just say up front, I see enormous possibilities here. And as with all new technologies, we cannot fully predict the impact quite yet. There will be problems and failures, but the ultimate story is “hooray.”\\n\\nWhat Is Chat-GPT?\\n\\nTo put it quite simply, this technology (and there are many others like it) is what is often called a “language machine” that uses statistics, reinforcement learning, and supervised learning to index words, phrases, and sentences. While it has no real “intelligence” (it doesn’t know what a word “means” but it knows how it is used), it can very effectively answer questions, write articles, summarize information, and more.'"
      ]
     },
     "execution_count": 42,
     "metadata": {},
     "output_type": "execute_result"
    }
   ],
   "source": [
    "doc_2"
   ]
  },
  {
   "cell_type": "code",
   "execution_count": 43,
   "id": "ab8908c8",
   "metadata": {},
   "outputs": [],
   "source": [
    "doc_3='''1 – ChatGPT can help you with copying, pasting or summarizing articles for blogs, magazines and even students homework.\n",
    "\n",
    "2 – ChatGPT can write scripts or code for you. It can even answer more qualitative questions such as, “what is the best way to loop in a program?”\n",
    "\n",
    "3 – ChatGTP can help you with your planning. It can create a schedule for you ahead of time by keeping all pros & cons in consideration and suggest the best way forward.\n",
    "\n",
    "Not to forget that one of OpenAI founders was the world’s richest man, Elon Musk. His recent tweet about ChatGPT is a proof that this development is going to change the world soon.'''"
   ]
  },
  {
   "cell_type": "code",
   "execution_count": 44,
   "id": "3add2c97",
   "metadata": {},
   "outputs": [
    {
     "data": {
      "text/plain": [
       "'1 – ChatGPT can help you with copying, pasting or summarizing articles for blogs, magazines and even students homework.\\n\\n2 – ChatGPT can write scripts or code for you. It can even answer more qualitative questions such as, “what is the best way to loop in a program?”\\n\\n3 – ChatGTP can help you with your planning. It can create a schedule for you ahead of time by keeping all pros & cons in consideration and suggest the best way forward.\\n\\nNot to forget that one of OpenAI founders was the world’s richest man, Elon Musk. His recent tweet about ChatGPT is a proof that this development is going to change the world soon.'"
      ]
     },
     "execution_count": 44,
     "metadata": {},
     "output_type": "execute_result"
    }
   ],
   "source": [
    "doc_3"
   ]
  },
  {
   "cell_type": "code",
   "execution_count": 45,
   "id": "59a08846",
   "metadata": {},
   "outputs": [],
   "source": [
    "doc_4='''In a world where we can get almost anything with a push or a click, it is no surprise that we have shifted a lot of our social activity to digital space, like chat rooms. People craving social contact can log onto a variety of chat rooms to chat with others who want the same thing. As with every online option, there are advantages and disadvantages to choosing virtual socializing, like chat rooms, over in person. What are chat rooms pros and cons?\n",
    "\n",
    "Not having someone to chat with can be extremely difficult. Sometimes it feels like your friends and family don't understand what you are going through or don't have enough time to chat. Or you might value their perspective but worry about being a burden. Perhaps you have something personal you want to share but don't feel like you can do so with the people you're close to. Or maybe you are someone who doesn't have a ton of friends. At these times and others, online chat rooms can be appealing. However, not everyone has the same experience - or gets the same benefits - when they visit chat rooms.\n",
    "\n",
    "Some Of The Pros And Cons Of Online Chat Rooms\n",
    "\n",
    "Most chat rooms offer anonymity, which can give us the confidence to chat about things we wouldn't normally share with people we know \"in real life\" (IRL). It can be easier to open up to people that we meet online in settings like chat rooms, but should we? Let's take a look at some pros and cons.'''"
   ]
  },
  {
   "cell_type": "code",
   "execution_count": 46,
   "id": "69ddc5a3",
   "metadata": {},
   "outputs": [
    {
     "data": {
      "text/plain": [
       "'In a world where we can get almost anything with a push or a click, it is no surprise that we have shifted a lot of our social activity to digital space, like chat rooms. People craving social contact can log onto a variety of chat rooms to chat with others who want the same thing. As with every online option, there are advantages and disadvantages to choosing virtual socializing, like chat rooms, over in person. What are chat rooms pros and cons?\\n\\nNot having someone to chat with can be extremely difficult. Sometimes it feels like your friends and family don\\'t understand what you are going through or don\\'t have enough time to chat. Or you might value their perspective but worry about being a burden. Perhaps you have something personal you want to share but don\\'t feel like you can do so with the people you\\'re close to. Or maybe you are someone who doesn\\'t have a ton of friends. At these times and others, online chat rooms can be appealing. However, not everyone has the same experience - or gets the same benefits - when they visit chat rooms.\\n\\nSome Of The Pros And Cons Of Online Chat Rooms\\n\\nMost chat rooms offer anonymity, which can give us the confidence to chat about things we wouldn\\'t normally share with people we know \"in real life\" (IRL). It can be easier to open up to people that we meet online in settings like chat rooms, but should we? Let\\'s take a look at some pros and cons.'"
      ]
     },
     "execution_count": 46,
     "metadata": {},
     "output_type": "execute_result"
    }
   ],
   "source": [
    "doc_4"
   ]
  },
  {
   "cell_type": "code",
   "execution_count": 47,
   "id": "1a8f223e",
   "metadata": {},
   "outputs": [],
   "source": [
    "#Creating a list of documents\n",
    "docs=[doc_1,doc_2,doc_3,doc_4]"
   ]
  },
  {
   "cell_type": "code",
   "execution_count": 48,
   "id": "98db45bc",
   "metadata": {},
   "outputs": [
    {
     "data": {
      "text/plain": [
       "['Chat GPT is a highly popular AI-based program that people use for generating dialogues. The chatbot has a language-based model that the developer fine-tunes for human interaction in a conversational manner. \\n\\nIt’s a simulated chatbot primarily designed for customer service; people use it for various other purposes. But what is it? If you are new to this Chat GPT, this guide is for you, so continue reading. \\n\\nWhat’s Chat GPT?\\nChat GPT is an AI chatbot auto-generative system created by Open AI for online customer care. It is a pre-trained generative chat, which makes use of (NLP) Natural Language Processing. The source of its data is textbooks, websites, and various articles, which it uses to model its own language for responding to human interaction.',\n",
       " 'Everyone has an opinion about Chat-GPT and AI. Engineers and entrepreneurs see it as a new frontier: a bold new world to invent products, services, and solutions. Social scientists and journalists are worried, with one prominent NYT author Ezra Klein calling it an “information warfare machine.” What has god wrought?\\n\\nLet me just say up front, I see enormous possibilities here. And as with all new technologies, we cannot fully predict the impact quite yet. There will be problems and failures, but the ultimate story is “hooray.”\\n\\nWhat Is Chat-GPT?\\n\\nTo put it quite simply, this technology (and there are many others like it) is what is often called a “language machine” that uses statistics, reinforcement learning, and supervised learning to index words, phrases, and sentences. While it has no real “intelligence” (it doesn’t know what a word “means” but it knows how it is used), it can very effectively answer questions, write articles, summarize information, and more.',\n",
       " '1 – ChatGPT can help you with copying, pasting or summarizing articles for blogs, magazines and even students homework.\\n\\n2 – ChatGPT can write scripts or code for you. It can even answer more qualitative questions such as, “what is the best way to loop in a program?”\\n\\n3 – ChatGTP can help you with your planning. It can create a schedule for you ahead of time by keeping all pros & cons in consideration and suggest the best way forward.\\n\\nNot to forget that one of OpenAI founders was the world’s richest man, Elon Musk. His recent tweet about ChatGPT is a proof that this development is going to change the world soon.',\n",
       " 'In a world where we can get almost anything with a push or a click, it is no surprise that we have shifted a lot of our social activity to digital space, like chat rooms. People craving social contact can log onto a variety of chat rooms to chat with others who want the same thing. As with every online option, there are advantages and disadvantages to choosing virtual socializing, like chat rooms, over in person. What are chat rooms pros and cons?\\n\\nNot having someone to chat with can be extremely difficult. Sometimes it feels like your friends and family don\\'t understand what you are going through or don\\'t have enough time to chat. Or you might value their perspective but worry about being a burden. Perhaps you have something personal you want to share but don\\'t feel like you can do so with the people you\\'re close to. Or maybe you are someone who doesn\\'t have a ton of friends. At these times and others, online chat rooms can be appealing. However, not everyone has the same experience - or gets the same benefits - when they visit chat rooms.\\n\\nSome Of The Pros And Cons Of Online Chat Rooms\\n\\nMost chat rooms offer anonymity, which can give us the confidence to chat about things we wouldn\\'t normally share with people we know \"in real life\" (IRL). It can be easier to open up to people that we meet online in settings like chat rooms, but should we? Let\\'s take a look at some pros and cons.']"
      ]
     },
     "execution_count": 48,
     "metadata": {},
     "output_type": "execute_result"
    }
   ],
   "source": [
    "docs"
   ]
  },
  {
   "cell_type": "markdown",
   "id": "ca67d918",
   "metadata": {},
   "source": [
    "## Choosing tokens"
   ]
  },
  {
   "cell_type": "code",
   "execution_count": 49,
   "id": "217e9b98",
   "metadata": {},
   "outputs": [],
   "source": [
    "texts=[]\n",
    "for document in docs:\n",
    "    doc=nlp(document)\n",
    "    text=[]\n",
    "    for token in doc:\n",
    "        if token.is_stop and not token.is_punct and not token.like_num:\n",
    "            text.append(token.lemma_)#root form\n",
    "    texts.append(text)"
   ]
  },
  {
   "cell_type": "code",
   "execution_count": 50,
   "id": "5fbabfa6",
   "metadata": {},
   "outputs": [
    {
     "name": "stdout",
     "output_type": "stream",
     "text": [
      "[['be', 'a', 'that', 'for', 'the', 'have', 'a', 'that', 'the', 'for', 'in', 'a', 'it', '’', 'a', 'for', 'it', 'for', 'various', 'other', 'but', 'what', 'be', 'it', 'if', 'you', 'be', 'to', 'this', 'this', 'be', 'for', 'you', 'so', 'what', '’', 'be', 'an', 'by', 'for', 'it', 'be', 'a', 'which', 'of', 'the', 'of', 'its', 'be', 'and', 'various', 'which', 'it', 'to', 'its', 'own', 'for', 'to'], ['everyone', 'have', 'an', 'about', 'and', 'and', 'see', 'it', 'as', 'a', 'a', 'to', 'and', 'and', 'be', 'with', 'it', 'an', 'what', 'have', 'I', 'just', 'say', 'up', 'front', 'I', 'see', 'here', 'and', 'as', 'with', 'all', 'we', 'can', 'not', 'the', 'quite', 'yet', 'there', 'will', 'be', 'and', 'but', 'the', 'be', 'what', 'be', 'to', 'put', 'it', 'quite', 'this', 'and', 'there', 'be', 'many', 'other', 'it', 'be', 'what', 'be', 'often', 'a', 'that', 'and', 'to', 'and', 'while', 'it', 'have', 'no', 'it', 'do', 'not', 'what', 'a', 'but', 'it', 'how', 'it', 'be', 'use', 'it', 'can', 'very', 'and', 'more'], ['can', 'you', 'with', 'or', 'for', 'and', 'even', 'can', 'or', 'for', 'you', 'it', 'can', 'even', 'more', 'such', 'as', 'what', 'be', 'the', 'to', 'in', 'a', 'can', 'you', 'with', 'your', 'it', 'can', 'a', 'for', 'you', 'of', 'by', 'all', 'in', 'and', 'the', 'not', 'to', 'that', 'of', 'be', 'the', '’s', 'his', 'about', 'be', 'a', 'that', 'this', 'be', 'to', 'the'], ['in', 'a', 'where', 'we', 'can', 'get', 'almost', 'anything', 'with', 'a', 'or', 'a', 'it', 'be', 'no', 'that', 'we', 'have', 'a', 'of', 'our', 'to', 'can', 'onto', 'a', 'of', 'to', 'with', 'other', 'who', 'the', 'same', 'as', 'with', 'every', 'there', 'be', 'and', 'to', 'over', 'in', 'what', 'be', 'and', 'not', 'someone', 'to', 'with', 'can', 'be', 'sometimes', 'it', 'your', 'and', 'do', 'not', 'what', 'you', 'be', 'through', 'or', 'do', 'not', 'have', 'enough', 'to', 'or', 'you', 'might', 'their', 'but', 'about', 'be', 'a', 'perhaps', 'you', 'have', 'something', 'you', 'to', 'but', 'do', 'not', 'you', 'can', 'do', 'so', 'with', 'the', 'you', 'be', 'to', 'or', 'you', 'be', 'someone', 'who', 'do', 'not', 'have', 'a', 'of', 'at', 'these', 'and', 'other', 'can', 'be', 'however', 'not', 'everyone', 'have', 'the', 'same', 'or', 'the', 'same', 'when', 'they', 'some', 'of', 'the', 'and', 'of', 'most', 'which', 'can', 'give', 'we', 'the', 'to', 'about', 'we', 'would', 'not', 'with', 'we', 'in', 'it', 'can', 'be', 'to', 'up', 'to', 'that', 'we', 'in', 'but', 'should', 'we', 'us', 'take', 'a', 'at', 'some', 'and']]\n"
     ]
    }
   ],
   "source": [
    "print(texts)"
   ]
  },
  {
   "cell_type": "code",
   "execution_count": 51,
   "id": "528a124e",
   "metadata": {},
   "outputs": [
    {
     "name": "stdout",
     "output_type": "stream",
     "text": [
      "4\n"
     ]
    }
   ],
   "source": [
    "print(len(texts))"
   ]
  },
  {
   "cell_type": "code",
   "execution_count": 52,
   "id": "ec9d2f93",
   "metadata": {},
   "outputs": [
    {
     "name": "stdout",
     "output_type": "stream",
     "text": [
      "58 87 54 156\n"
     ]
    }
   ],
   "source": [
    "print(len(texts[0]),len(texts[1]),len(texts[2]),len(texts[3]))"
   ]
  },
  {
   "cell_type": "markdown",
   "id": "2f7dbf18",
   "metadata": {},
   "source": [
    "## Creation of corpus\n",
    "\n",
    "A corpus is a collection of documents in a dictionary.\n"
   ]
  },
  {
   "cell_type": "code",
   "execution_count": 32,
   "id": "0a0472d6",
   "metadata": {},
   "outputs": [],
   "source": [
    "from gensim.corpora import Dictionary"
   ]
  },
  {
   "cell_type": "code",
   "execution_count": 33,
   "id": "b4456cd3",
   "metadata": {},
   "outputs": [],
   "source": [
    "dict_1=Dictionary(texts)"
   ]
  },
  {
   "cell_type": "code",
   "execution_count": 34,
   "id": "89419b56",
   "metadata": {},
   "outputs": [
    {
     "data": {
      "text/plain": [
       "<gensim.corpora.dictionary.Dictionary at 0x1fd714e8610>"
      ]
     },
     "execution_count": 34,
     "metadata": {},
     "output_type": "execute_result"
    }
   ],
   "source": [
    "dict_1"
   ]
  },
  {
   "cell_type": "markdown",
   "id": "8a6c8c44",
   "metadata": {},
   "source": [
    "## Giving an ID to each token"
   ]
  },
  {
   "cell_type": "code",
   "execution_count": 35,
   "id": "46153911",
   "metadata": {},
   "outputs": [
    {
     "name": "stdout",
     "output_type": "stream",
     "text": [
      "{'a': 0, 'an': 1, 'and': 2, 'be': 3, 'but': 4, 'by': 5, 'for': 6, 'have': 7, 'if': 8, 'in': 9, 'it': 10, 'its': 11, 'of': 12, 'other': 13, 'own': 14, 'so': 15, 'that': 16, 'the': 17, 'this': 18, 'to': 19, 'various': 20, 'what': 21, 'which': 22, 'you': 23, '’': 24, 'I': 25, 'about': 26, 'all': 27, 'as': 28, 'can': 29, 'do': 30, 'everyone': 31, 'front': 32, 'here': 33, 'how': 34, 'just': 35, 'many': 36, 'more': 37, 'no': 38, 'not': 39, 'often': 40, 'put': 41, 'quite': 42, 'say': 43, 'see': 44, 'there': 45, 'up': 46, 'use': 47, 'very': 48, 'we': 49, 'while': 50, 'will': 51, 'with': 52, 'yet': 53, 'even': 54, 'his': 55, 'or': 56, 'such': 57, 'your': 58, '’s': 59, 'almost': 60, 'anything': 61, 'at': 62, 'enough': 63, 'every': 64, 'get': 65, 'however': 66, 'might': 67, 'onto': 68, 'our': 69, 'over': 70, 'perhaps': 71, 'same': 72, 'someone': 73, 'something': 74, 'sometimes': 75, 'their': 76, 'these': 77, 'they': 78, 'through': 79, 'when': 80, 'where': 81, 'who': 82}\n"
     ]
    }
   ],
   "source": [
    "print(dict_1.token2id)"
   ]
  },
  {
   "cell_type": "code",
   "execution_count": 53,
   "id": "77fdd098",
   "metadata": {},
   "outputs": [
    {
     "name": "stdout",
     "output_type": "stream",
     "text": [
      "83\n"
     ]
    }
   ],
   "source": [
    "print(len(dict_1))"
   ]
  },
  {
   "cell_type": "markdown",
   "id": "aded90fb",
   "metadata": {},
   "source": [
    "### Bag of Words"
   ]
  },
  {
   "cell_type": "code",
   "execution_count": 54,
   "id": "5637e086",
   "metadata": {},
   "outputs": [],
   "source": [
    "bow_vec=[]\n",
    "for token in texts:\n",
    "    bow_vec.append(dict_1.doc2bow(token))"
   ]
  },
  {
   "cell_type": "code",
   "execution_count": 55,
   "id": "9f9c7ca1",
   "metadata": {},
   "outputs": [
    {
     "name": "stdout",
     "output_type": "stream",
     "text": [
      "[[(0, 5), (1, 1), (2, 1), (3, 7), (4, 1), (5, 1), (6, 7), (7, 1), (8, 1), (9, 1), (10, 5), (11, 2), (12, 2), (13, 1), (14, 1), (15, 1), (16, 2), (17, 3), (18, 2), (19, 3), (20, 2), (21, 2), (22, 2), (23, 2), (24, 2)], [(0, 4), (1, 2), (2, 10), (3, 8), (4, 2), (7, 3), (10, 9), (13, 1), (16, 1), (17, 2), (18, 1), (19, 3), (21, 4), (25, 2), (26, 1), (27, 1), (28, 2), (29, 2), (30, 1), (31, 1), (32, 1), (33, 1), (34, 1), (35, 1), (36, 1), (37, 1), (38, 1), (39, 2), (40, 1), (41, 1), (42, 2), (43, 1), (44, 2), (45, 2), (46, 1), (47, 1), (48, 1), (49, 1), (50, 1), (51, 1), (52, 2), (53, 1)], [(0, 3), (2, 2), (3, 4), (5, 1), (6, 3), (9, 2), (10, 2), (12, 2), (16, 2), (17, 4), (18, 1), (19, 3), (21, 1), (23, 4), (26, 1), (27, 1), (28, 1), (29, 5), (37, 1), (39, 1), (52, 2), (54, 2), (55, 1), (56, 2), (57, 1), (58, 1), (59, 1)], [(0, 8), (2, 6), (3, 10), (4, 3), (7, 5), (9, 4), (10, 3), (12, 5), (13, 2), (15, 1), (16, 2), (17, 6), (19, 10), (21, 2), (22, 1), (23, 7), (26, 2), (28, 1), (29, 7), (30, 5), (31, 1), (38, 1), (39, 7), (45, 1), (46, 1), (49, 7), (52, 6), (56, 5), (58, 1), (60, 1), (61, 1), (62, 2), (63, 1), (64, 1), (65, 1), (66, 1), (67, 1), (68, 1), (69, 1), (70, 1), (71, 1), (72, 3), (73, 2), (74, 1), (75, 1), (76, 1), (77, 1), (78, 1), (79, 1), (80, 1), (81, 1), (82, 2)]]\n"
     ]
    }
   ],
   "source": [
    "print(bow_vec)"
   ]
  },
  {
   "cell_type": "code",
   "execution_count": 56,
   "id": "01231c1e",
   "metadata": {},
   "outputs": [
    {
     "name": "stdout",
     "output_type": "stream",
     "text": [
      "4\n"
     ]
    }
   ],
   "source": [
    "print(len(bow_vec))"
   ]
  },
  {
   "cell_type": "code",
   "execution_count": 57,
   "id": "ec3e7551",
   "metadata": {},
   "outputs": [
    {
     "name": "stdout",
     "output_type": "stream",
     "text": [
      "25 42 27 52\n"
     ]
    }
   ],
   "source": [
    "print(len(bow_vec[0]),len(bow_vec[1]),len(bow_vec[2]),len(bow_vec[3]))"
   ]
  },
  {
   "cell_type": "code",
   "execution_count": 65,
   "id": "8cfd7013",
   "metadata": {},
   "outputs": [
    {
     "name": "stdout",
     "output_type": "stream",
     "text": [
      "[[ 5.  4.  3.  8.]\n",
      " [ 1.  2.  0.  0.]\n",
      " [ 1. 10.  2.  6.]\n",
      " [ 7.  8.  4. 10.]\n",
      " [ 1.  2.  0.  3.]\n",
      " [ 1.  0.  1.  0.]\n",
      " [ 7.  0.  3.  0.]\n",
      " [ 1.  3.  0.  5.]\n",
      " [ 1.  0.  0.  0.]\n",
      " [ 1.  0.  2.  4.]\n",
      " [ 5.  9.  2.  3.]\n",
      " [ 2.  0.  0.  0.]\n",
      " [ 2.  0.  2.  5.]\n",
      " [ 1.  1.  0.  2.]\n",
      " [ 1.  0.  0.  0.]\n",
      " [ 1.  0.  0.  1.]\n",
      " [ 2.  1.  2.  2.]\n",
      " [ 3.  2.  4.  6.]\n",
      " [ 2.  1.  1.  0.]\n",
      " [ 3.  3.  3. 10.]\n",
      " [ 2.  0.  0.  0.]\n",
      " [ 2.  4.  1.  2.]\n",
      " [ 2.  0.  0.  1.]\n",
      " [ 2.  0.  4.  7.]\n",
      " [ 2.  0.  0.  0.]\n",
      " [ 0.  2.  0.  0.]\n",
      " [ 0.  1.  1.  2.]\n",
      " [ 0.  1.  1.  0.]\n",
      " [ 0.  2.  1.  1.]\n",
      " [ 0.  2.  5.  7.]\n",
      " [ 0.  1.  0.  5.]\n",
      " [ 0.  1.  0.  1.]\n",
      " [ 0.  1.  0.  0.]\n",
      " [ 0.  1.  0.  0.]\n",
      " [ 0.  1.  0.  0.]\n",
      " [ 0.  1.  0.  0.]\n",
      " [ 0.  1.  0.  0.]\n",
      " [ 0.  1.  1.  0.]\n",
      " [ 0.  1.  0.  1.]\n",
      " [ 0.  2.  1.  7.]\n",
      " [ 0.  1.  0.  0.]\n",
      " [ 0.  1.  0.  0.]\n",
      " [ 0.  2.  0.  0.]\n",
      " [ 0.  1.  0.  0.]\n",
      " [ 0.  2.  0.  0.]\n",
      " [ 0.  2.  0.  1.]\n",
      " [ 0.  1.  0.  1.]\n",
      " [ 0.  1.  0.  0.]\n",
      " [ 0.  1.  0.  0.]\n",
      " [ 0.  1.  0.  7.]\n",
      " [ 0.  1.  0.  0.]\n",
      " [ 0.  1.  0.  0.]\n",
      " [ 0.  2.  2.  6.]\n",
      " [ 0.  1.  0.  0.]\n",
      " [ 0.  0.  2.  0.]\n",
      " [ 0.  0.  1.  0.]\n",
      " [ 0.  0.  2.  5.]\n",
      " [ 0.  0.  1.  0.]\n",
      " [ 0.  0.  1.  1.]\n",
      " [ 0.  0.  1.  0.]\n",
      " [ 0.  0.  0.  1.]\n",
      " [ 0.  0.  0.  1.]\n",
      " [ 0.  0.  0.  2.]\n",
      " [ 0.  0.  0.  1.]\n",
      " [ 0.  0.  0.  1.]\n",
      " [ 0.  0.  0.  1.]\n",
      " [ 0.  0.  0.  1.]\n",
      " [ 0.  0.  0.  1.]\n",
      " [ 0.  0.  0.  1.]\n",
      " [ 0.  0.  0.  1.]\n",
      " [ 0.  0.  0.  1.]\n",
      " [ 0.  0.  0.  1.]\n",
      " [ 0.  0.  0.  3.]\n",
      " [ 0.  0.  0.  2.]\n",
      " [ 0.  0.  0.  1.]\n",
      " [ 0.  0.  0.  1.]\n",
      " [ 0.  0.  0.  1.]\n",
      " [ 0.  0.  0.  1.]\n",
      " [ 0.  0.  0.  1.]\n",
      " [ 0.  0.  0.  1.]\n",
      " [ 0.  0.  0.  1.]\n",
      " [ 0.  0.  0.  1.]\n",
      " [ 0.  0.  0.  2.]]\n"
     ]
    }
   ],
   "source": [
    "#Matrix Representation\n",
    "from gensim import matutils\n",
    "bow_matrix=matutils.corpus2dense(bow_vec,num_terms=len(dict_1))\n",
    "print(bow_matrix)"
   ]
  },
  {
   "cell_type": "code",
   "execution_count": 66,
   "id": "03d049b4",
   "metadata": {},
   "outputs": [
    {
     "data": {
      "text/plain": [
       "(83, 4)"
      ]
     },
     "execution_count": 66,
     "metadata": {},
     "output_type": "execute_result"
    }
   ],
   "source": [
    "bow_matrix.shape"
   ]
  },
  {
   "cell_type": "markdown",
   "id": "5671d978",
   "metadata": {},
   "source": [
    "## TFIDF\n",
    "\n",
    "Term Frequency Inverse Document Frequency"
   ]
  },
  {
   "cell_type": "code",
   "execution_count": 60,
   "id": "c6466092",
   "metadata": {},
   "outputs": [],
   "source": [
    "from gensim.models import TfidfModel\n",
    "tfidf=TfidfModel(bow_vec)"
   ]
  },
  {
   "cell_type": "code",
   "execution_count": 61,
   "id": "4e362d46",
   "metadata": {},
   "outputs": [
    {
     "data": {
      "text/plain": [
       "<gensim.models.tfidfmodel.TfidfModel at 0x1fd714b2f10>"
      ]
     },
     "execution_count": 61,
     "metadata": {},
     "output_type": "execute_result"
    }
   ],
   "source": [
    "tfidf"
   ]
  },
  {
   "cell_type": "code",
   "execution_count": 62,
   "id": "953039ba",
   "metadata": {},
   "outputs": [],
   "source": [
    "tfidf_vec=[]\n",
    "for vec in bow_vec:\n",
    "    tfidf_vec.append(tfidf[vec])"
   ]
  },
  {
   "cell_type": "code",
   "execution_count": 64,
   "id": "e82c7df7",
   "metadata": {},
   "outputs": [
    {
     "name": "stdout",
     "output_type": "stream",
     "text": [
      "[[(1, 0.09334952525742805), (4, 0.038743553521710196), (5, 0.09334952525742805), (6, 0.6534466768019964), (7, 0.038743553521710196), (8, 0.1866990505148561), (9, 0.038743553521710196), (11, 0.3733981010297122), (12, 0.07748710704342039), (13, 0.038743553521710196), (14, 0.1866990505148561), (15, 0.09334952525742805), (18, 0.07748710704342039), (20, 0.3733981010297122), (22, 0.1866990505148561), (23, 0.07748710704342039), (24, 0.3733981010297122)], [(1, 0.1821857880242322), (4, 0.07561393386572283), (7, 0.11342090079858426), (13, 0.03780696693286142), (18, 0.03780696693286142), (25, 0.3643715760484644), (26, 0.03780696693286142), (27, 0.0910928940121161), (28, 0.07561393386572283), (29, 0.07561393386572283), (30, 0.0910928940121161), (31, 0.0910928940121161), (32, 0.1821857880242322), (33, 0.1821857880242322), (34, 0.1821857880242322), (35, 0.1821857880242322), (36, 0.1821857880242322), (37, 0.0910928940121161), (38, 0.0910928940121161), (39, 0.07561393386572283), (40, 0.1821857880242322), (41, 0.1821857880242322), (42, 0.3643715760484644), (43, 0.1821857880242322), (44, 0.3643715760484644), (45, 0.1821857880242322), (46, 0.0910928940121161), (47, 0.1821857880242322), (48, 0.1821857880242322), (49, 0.0910928940121161), (50, 0.1821857880242322), (51, 0.1821857880242322), (52, 0.07561393386572283), (53, 0.1821857880242322)], [(5, 0.13506288844897027), (6, 0.40518866534691084), (9, 0.11211232693447609), (12, 0.11211232693447609), (18, 0.056056163467238046), (23, 0.22422465386895218), (26, 0.056056163467238046), (27, 0.13506288844897027), (28, 0.056056163467238046), (29, 0.28028081733619026), (37, 0.13506288844897027), (39, 0.056056163467238046), (52, 0.11211232693447609), (54, 0.5402515537958811), (55, 0.27012577689794054), (56, 0.27012577689794054), (57, 0.27012577689794054), (58, 0.13506288844897027), (59, 0.27012577689794054)], [(4, 0.0704914744943778), (7, 0.11748579082396302), (9, 0.0939886326591704), (12, 0.11748579082396302), (13, 0.0469943163295852), (15, 0.05661454255487886), (22, 0.05661454255487886), (23, 0.1644801071535482), (26, 0.0469943163295852), (28, 0.0234971581647926), (29, 0.1644801071535482), (30, 0.2830727127743943), (31, 0.05661454255487886), (38, 0.05661454255487886), (39, 0.1644801071535482), (45, 0.05661454255487886), (46, 0.05661454255487886), (49, 0.396301797884152), (52, 0.1409829489887556), (56, 0.2830727127743943), (58, 0.05661454255487886), (60, 0.11322908510975772), (61, 0.11322908510975772), (62, 0.22645817021951545), (63, 0.11322908510975772), (64, 0.11322908510975772), (65, 0.11322908510975772), (66, 0.11322908510975772), (67, 0.11322908510975772), (68, 0.11322908510975772), (69, 0.11322908510975772), (70, 0.11322908510975772), (71, 0.11322908510975772), (72, 0.33968725532927313), (73, 0.22645817021951545), (74, 0.11322908510975772), (75, 0.11322908510975772), (76, 0.11322908510975772), (77, 0.11322908510975772), (78, 0.11322908510975772), (79, 0.11322908510975772), (80, 0.11322908510975772), (81, 0.11322908510975772), (82, 0.22645817021951545)]]\n"
     ]
    }
   ],
   "source": [
    "print(tfidf_vec)"
   ]
  },
  {
   "cell_type": "markdown",
   "id": "8c8a5dc0",
   "metadata": {},
   "source": [
    "## Similarity of documents"
   ]
  },
  {
   "cell_type": "code",
   "execution_count": 67,
   "id": "7410d513",
   "metadata": {},
   "outputs": [],
   "source": [
    "from gensim.similarities import MatrixSimilarity\n",
    "sim=MatrixSimilarity(tfidf_vec,num_features=len(dict_1))"
   ]
  },
  {
   "cell_type": "code",
   "execution_count": 68,
   "id": "5b65526e",
   "metadata": {},
   "outputs": [
    {
     "name": "stdout",
     "output_type": "stream",
     "text": [
      "[1.         0.02872517 0.31212628 0.05044863]\n"
     ]
    }
   ],
   "source": [
    "print(sim[tfidf_vec[0]])"
   ]
  },
  {
   "cell_type": "code",
   "execution_count": 69,
   "id": "e85d3044",
   "metadata": {},
   "outputs": [
    {
     "name": "stdout",
     "output_type": "stream",
     "text": [
      "[0.02872517 0.9999999  0.0669928  0.14719197]\n"
     ]
    }
   ],
   "source": [
    "print(sim[tfidf_vec[1]])"
   ]
  },
  {
   "cell_type": "code",
   "execution_count": 70,
   "id": "c64c3ca8",
   "metadata": {},
   "outputs": [
    {
     "name": "stdout",
     "output_type": "stream",
     "text": [
      "[0.31212628 0.0669928  1.         0.2197793 ]\n"
     ]
    }
   ],
   "source": [
    "print(sim[tfidf_vec[2]])"
   ]
  },
  {
   "cell_type": "code",
   "execution_count": 71,
   "id": "f931c1c2",
   "metadata": {},
   "outputs": [
    {
     "name": "stdout",
     "output_type": "stream",
     "text": [
      "[0.05044863 0.14719197 0.2197793  1.        ]\n"
     ]
    }
   ],
   "source": [
    "print(sim[tfidf_vec[3]])"
   ]
  },
  {
   "cell_type": "code",
   "execution_count": 74,
   "id": "dce077dc",
   "metadata": {},
   "outputs": [
    {
     "ename": "IndexError",
     "evalue": "list index out of range",
     "output_type": "error",
     "traceback": [
      "\u001b[1;31m---------------------------------------------------------------------------\u001b[0m",
      "\u001b[1;31mIndexError\u001b[0m                                Traceback (most recent call last)",
      "Input \u001b[1;32mIn [74]\u001b[0m, in \u001b[0;36m<cell line: 1>\u001b[1;34m()\u001b[0m\n\u001b[1;32m----> 1\u001b[0m \u001b[38;5;28mprint\u001b[39m(sim[\u001b[43mtfidf_vec\u001b[49m\u001b[43m[\u001b[49m\u001b[38;5;241;43m4\u001b[39;49m\u001b[43m]\u001b[49m])\n",
      "\u001b[1;31mIndexError\u001b[0m: list index out of range"
     ]
    }
   ],
   "source": [
    "print(sim[tfidf_vec[4]])"
   ]
  },
  {
   "cell_type": "code",
   "execution_count": 72,
   "id": "83f2483c",
   "metadata": {},
   "outputs": [
    {
     "data": {
      "text/plain": [
       "'Chat GPT is a highly popular AI-based program that people use for generating dialogues. The chatbot has a language-based model that the developer fine-tunes for human interaction in a conversational manner. \\n\\nIt’s a simulated chatbot primarily designed for customer service; people use it for various other purposes. But what is it? If you are new to this Chat GPT, this guide is for you, so continue reading. \\n\\nWhat’s Chat GPT?\\nChat GPT is an AI chatbot auto-generative system created by Open AI for online customer care. It is a pre-trained generative chat, which makes use of (NLP) Natural Language Processing. The source of its data is textbooks, websites, and various articles, which it uses to model its own language for responding to human interaction.'"
      ]
     },
     "execution_count": 72,
     "metadata": {},
     "output_type": "execute_result"
    }
   ],
   "source": [
    "doc_1"
   ]
  },
  {
   "cell_type": "code",
   "execution_count": 73,
   "id": "c412bb6e",
   "metadata": {},
   "outputs": [
    {
     "data": {
      "text/plain": [
       "'1 – ChatGPT can help you with copying, pasting or summarizing articles for blogs, magazines and even students homework.\\n\\n2 – ChatGPT can write scripts or code for you. It can even answer more qualitative questions such as, “what is the best way to loop in a program?”\\n\\n3 – ChatGTP can help you with your planning. It can create a schedule for you ahead of time by keeping all pros & cons in consideration and suggest the best way forward.\\n\\nNot to forget that one of OpenAI founders was the world’s richest man, Elon Musk. His recent tweet about ChatGPT is a proof that this development is going to change the world soon.'"
      ]
     },
     "execution_count": 73,
     "metadata": {},
     "output_type": "execute_result"
    }
   ],
   "source": [
    "doc_3"
   ]
  },
  {
   "cell_type": "code",
   "execution_count": null,
   "id": "998c2a1f",
   "metadata": {},
   "outputs": [],
   "source": []
  }
 ],
 "metadata": {
  "kernelspec": {
   "display_name": "Python 3 (ipykernel)",
   "language": "python",
   "name": "python3"
  },
  "language_info": {
   "codemirror_mode": {
    "name": "ipython",
    "version": 3
   },
   "file_extension": ".py",
   "mimetype": "text/x-python",
   "name": "python",
   "nbconvert_exporter": "python",
   "pygments_lexer": "ipython3",
   "version": "3.9.12"
  }
 },
 "nbformat": 4,
 "nbformat_minor": 5
}
