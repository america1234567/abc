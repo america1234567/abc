{
 "cells": [
  {
   "cell_type": "markdown",
   "id": "001d7aa6",
   "metadata": {},
   "source": [
    "# Topic Modelling"
   ]
  },
  {
   "cell_type": "code",
   "execution_count": 1,
   "id": "f7b7e318",
   "metadata": {},
   "outputs": [],
   "source": [
    "#This is an instance of unsupervised learning.\n",
    "#Observed words are the words and latent are the topics.\n",
    "#lDA- Latent Dirichlet(Multivariate Statistical Distribution) Allocation\n",
    "#Topic Classification is supervised learning whereas Topic Modelling is unsupervised learning."
   ]
  },
  {
   "cell_type": "code",
   "execution_count": 2,
   "id": "b93b1cf9",
   "metadata": {},
   "outputs": [
    {
     "ename": "ModuleNotFoundError",
     "evalue": "No module named 'pyLDAvis'",
     "output_type": "error",
     "traceback": [
      "\u001b[1;31m---------------------------------------------------------------------------\u001b[0m",
      "\u001b[1;31mModuleNotFoundError\u001b[0m                       Traceback (most recent call last)",
      "Input \u001b[1;32mIn [2]\u001b[0m, in \u001b[0;36m<cell line: 1>\u001b[1;34m()\u001b[0m\n\u001b[1;32m----> 1\u001b[0m \u001b[38;5;28;01mimport\u001b[39;00m \u001b[38;5;21;01mpyLDAvis\u001b[39;00m\n",
      "\u001b[1;31mModuleNotFoundError\u001b[0m: No module named 'pyLDAvis'"
     ]
    }
   ],
   "source": [
    "import pyLDAvis           (vis means visualisation)"
   ]
  },
  {
   "cell_type": "code",
   "execution_count": 3,
   "id": "252aa940",
   "metadata": {},
   "outputs": [
    {
     "name": "stdout",
     "output_type": "stream",
     "text": [
      "Collecting pyLDAvis\n",
      "  Downloading pyLDAvis-3.3.1.tar.gz (1.7 MB)\n",
      "     ---------------------------------------- 1.7/1.7 MB 3.1 MB/s eta 0:00:00\n",
      "  Installing build dependencies: started\n",
      "  Installing build dependencies: finished with status 'done'\n",
      "  Getting requirements to build wheel: started\n",
      "  Getting requirements to build wheel: finished with status 'done'\n",
      "  Installing backend dependencies: started\n",
      "  Installing backend dependencies: finished with status 'done'\n",
      "  Preparing metadata (pyproject.toml): started\n",
      "  Preparing metadata (pyproject.toml): finished with status 'done'\n",
      "Requirement already satisfied: gensim in c:\\users\\lenovo\\anaconda3\\lib\\site-packages (from pyLDAvis) (4.1.2)\n",
      "Requirement already satisfied: pandas>=1.2.0 in c:\\users\\lenovo\\anaconda3\\lib\\site-packages (from pyLDAvis) (1.4.2)\n",
      "Requirement already satisfied: scipy in c:\\users\\lenovo\\anaconda3\\lib\\site-packages (from pyLDAvis) (1.7.3)\n",
      "Requirement already satisfied: numexpr in c:\\users\\lenovo\\anaconda3\\lib\\site-packages (from pyLDAvis) (2.8.1)\n",
      "Requirement already satisfied: future in c:\\users\\lenovo\\anaconda3\\lib\\site-packages (from pyLDAvis) (0.18.2)\n",
      "Collecting funcy\n",
      "  Downloading funcy-1.18-py2.py3-none-any.whl (33 kB)\n",
      "Requirement already satisfied: joblib in c:\\users\\lenovo\\anaconda3\\lib\\site-packages (from pyLDAvis) (1.1.0)\n",
      "Collecting sklearn\n",
      "  Downloading sklearn-0.0.post1.tar.gz (3.6 kB)\n",
      "  Preparing metadata (setup.py): started\n",
      "  Preparing metadata (setup.py): finished with status 'done'\n",
      "Requirement already satisfied: setuptools in c:\\users\\lenovo\\anaconda3\\lib\\site-packages (from pyLDAvis) (65.6.3)\n",
      "Requirement already satisfied: scikit-learn in c:\\users\\lenovo\\anaconda3\\lib\\site-packages (from pyLDAvis) (1.0.2)\n",
      "Requirement already satisfied: numpy>=1.20.0 in c:\\users\\lenovo\\anaconda3\\lib\\site-packages (from pyLDAvis) (1.21.5)\n",
      "Requirement already satisfied: jinja2 in c:\\users\\lenovo\\anaconda3\\lib\\site-packages (from pyLDAvis) (2.11.3)\n",
      "Requirement already satisfied: python-dateutil>=2.8.1 in c:\\users\\lenovo\\anaconda3\\lib\\site-packages (from pandas>=1.2.0->pyLDAvis) (2.8.2)\n",
      "Requirement already satisfied: pytz>=2020.1 in c:\\users\\lenovo\\anaconda3\\lib\\site-packages (from pandas>=1.2.0->pyLDAvis) (2021.3)\n",
      "Requirement already satisfied: smart-open>=1.8.1 in c:\\users\\lenovo\\anaconda3\\lib\\site-packages (from gensim->pyLDAvis) (6.3.0)\n",
      "Requirement already satisfied: MarkupSafe>=0.23 in c:\\users\\lenovo\\anaconda3\\lib\\site-packages (from jinja2->pyLDAvis) (2.0.1)\n",
      "Requirement already satisfied: packaging in c:\\users\\lenovo\\anaconda3\\lib\\site-packages (from numexpr->pyLDAvis) (21.3)\n",
      "Requirement already satisfied: threadpoolctl>=2.0.0 in c:\\users\\lenovo\\anaconda3\\lib\\site-packages (from scikit-learn->pyLDAvis) (2.2.0)\n",
      "Requirement already satisfied: six>=1.5 in c:\\users\\lenovo\\anaconda3\\lib\\site-packages (from python-dateutil>=2.8.1->pandas>=1.2.0->pyLDAvis) (1.16.0)\n",
      "Requirement already satisfied: pyparsing!=3.0.5,>=2.0.2 in c:\\users\\lenovo\\anaconda3\\lib\\site-packages (from packaging->numexpr->pyLDAvis) (3.0.4)\n",
      "Building wheels for collected packages: pyLDAvis, sklearn\n",
      "  Building wheel for pyLDAvis (pyproject.toml): started\n",
      "  Building wheel for pyLDAvis (pyproject.toml): finished with status 'done'\n",
      "  Created wheel for pyLDAvis: filename=pyLDAvis-3.3.1-py2.py3-none-any.whl size=136904 sha256=623e76c9c2a133a27f5ab0203e481b2b0b76ec26207da2b376dcd6a8493ed983\n",
      "  Stored in directory: c:\\users\\lenovo\\appdata\\local\\pip\\cache\\wheels\\1f\\ef\\46\\1dc1c1e5d8ff2f3b44cccaf004cf64488cf82b5c359fbc8efb\n",
      "  Building wheel for sklearn (setup.py): started\n",
      "  Building wheel for sklearn (setup.py): finished with status 'done'\n",
      "  Created wheel for sklearn: filename=sklearn-0.0.post1-py3-none-any.whl size=2954 sha256=ac63883fa10d4dba1efe8b2121b3990bd7068f154b0284107203dc31ef5315a4\n",
      "  Stored in directory: c:\\users\\lenovo\\appdata\\local\\pip\\cache\\wheels\\03\\8b\\6f\\9f13c705de81a6b351b718b3cf917e41ad7c0933c8630d4dd4\n",
      "Successfully built pyLDAvis sklearn\n",
      "Installing collected packages: sklearn, funcy, pyLDAvis\n",
      "Successfully installed funcy-1.18 pyLDAvis-3.3.1 sklearn-0.0.post1\n"
     ]
    },
    {
     "name": "stderr",
     "output_type": "stream",
     "text": [
      "\n",
      "[notice] A new release of pip available: 22.3.1 -> 23.0\n",
      "[notice] To update, run: python.exe -m pip install --upgrade pip\n"
     ]
    }
   ],
   "source": [
    "!pip install pyLDAvis"
   ]
  },
  {
   "cell_type": "code",
   "execution_count": 4,
   "id": "73b661c4",
   "metadata": {},
   "outputs": [],
   "source": [
    "import pyLDAvis"
   ]
  },
  {
   "cell_type": "code",
   "execution_count": 5,
   "id": "fe0e0f77",
   "metadata": {},
   "outputs": [],
   "source": [
    "import pyLDAvis.gensim_models"
   ]
  },
  {
   "cell_type": "code",
   "execution_count": 6,
   "id": "bb1b1ef5",
   "metadata": {},
   "outputs": [
    {
     "name": "stderr",
     "output_type": "stream",
     "text": [
      "C:\\Users\\Lenovo\\anaconda3\\lib\\site-packages\\scipy\\sparse\\sparsetools.py:21: DeprecationWarning: `scipy.sparse.sparsetools` is deprecated!\n",
      "scipy.sparse.sparsetools is a private module for scipy.sparse, and should not be used.\n",
      "  _deprecated()\n"
     ]
    }
   ],
   "source": [
    "import spacy \n",
    "import gensim"
   ]
  },
  {
   "cell_type": "markdown",
   "id": "3e1c9888",
   "metadata": {},
   "source": [
    "## Accessing the Text"
   ]
  },
  {
   "cell_type": "code",
   "execution_count": 8,
   "id": "8540d2f2",
   "metadata": {},
   "outputs": [],
   "source": [
    "text_1='''Amidst continuing global economic uncertainty, India remains a strong performer, and is well positioned to take advantage of the many economic opportunities that the coming years have to offer. GDP growth remains strong at 7 per cent in FY 2023 and is projected to remain above 6 per cent in FY 2024 as well. Tax revenues saw notable growth in the current year, and the Government is confident of reining in the fiscal deficit to below 4.5 per cent by 2025-26.\n",
    "In this backdrop, it comes as no surprise that budget focuses on continuity and stability on many fronts, including taxation.\n",
    "The Government’s ambitious economic agenda focuses on three key aspects- first, to provide opportunities to citizens, second, to provide a strong impetus to growth and job creation and finally, to strengthen macro-economic stability. Among the many priority areas outlined in the budget, agriculture and infrastructure are key. There is a sustained push towards building of digital public infrastructure in agriculture, strengthening credit to farmers and promotion of the cooperative sector.\n",
    "The Government rightly sees infrastructure development as a driver of growth and employment. This is reflected in record capital outlays this year, which saw a 33 per cent increase to reach INR10 lakh crore. There is also a focus on enhancing private investment in this sector. Capital outlays for the railways too has seen a significant increase over the years.\n",
    "Medium, small and micro enterprises (MSMEs) is another important area where the Budget makes strong policy interventions. In addition to enhanced funding for credit guarantees for this sector, the Government also proposes to return 95 per cent of sums forfeited due to non-execution of contracts by MSMEs. A scheme to settle contractual disputes with graded settlement terms is also on the cards.\n",
    "The Budget also reiterated India’s commitment to green growth and to move towards a net-zero carbon emission by 2070. To this end, several measures are envisaged in the Budget including increased funding of energy transition and promotion of energy-efficient coastal shipping.\n",
    "For the financial sector, the Government plans to undertake a comprehensive review of financial sector regulations to simplify and ease compliance. The IFSC framework is sought to be expanded by several policy changes including a single window clearance system, recognition of offshore derivative instruments, enabling of acquisition financing and setting up of data embassies.\n",
    "On the direct tax front, the Budget continued its focus on easing compliance, widening the tax base and rationalisation of various provisions. The new tax regime introduced for individuals in 2020 saw a series of changes designed to make it more attractive for taxpayers, including through a change in the slab rates, rebate and surcharge. Provisions benefitting MSMEs and start-ups were also introduced.\n",
    "Anti-abuse provisions that targeted companies raising capital at high premiums were expanded so as to cover investments by non-residents. This is an important change and could have a bearing on foreign inflows into India.\n",
    "As many countries move to implement the Global Minimum Tax Rules (GLobE), there was an expectation that the Government would provide guidance on India’s adoption of these rules, including through a detailed public consultation process. However, there was no announcement in this regard.\n",
    "As regards indirect taxes, the proposals aim to boost domestic manufacturing, promote exports, and enhance domestic value addition, encouraging green energy and mobility. From a GST perspective, restrictions are placed on Input Tax Credit on activities pertaining to Corporate Social Responsibility obligations as per Companies Act, 2013. Penal provisions are introduced on electronic commerce operators for contravening provisions relating to supply of goods made through them by unregistered persons or composition taxpayers making interstate supplies. The monetary threshold for launching prosecution for offences under the GST law is also increased from INR1 crore to INR2 crore, except for issuance of fake invoices.\n",
    "Decriminalisation of certain provisions in GST law, such as obstructing an officer from discharge of duties, possession of illegally supplied goods, destruction of evidence/documents was also announced in the budget. The Online Information and Database Access or Retrieval services (OIDAR) of IGST Act are also proposed to be amended to remove the condition of rendering of the said supply being essentially automated and involving minimal human intervention.\n",
    "This microsite is your consolidated resource for all Budget related information. Through this platform, KPMG in India’s partners and sector leaders will engage with you and share their views and insights on Union Budget 2023-24.'''"
   ]
  },
  {
   "cell_type": "code",
   "execution_count": 9,
   "id": "14267645",
   "metadata": {},
   "outputs": [
    {
     "data": {
      "text/plain": [
       "'Amidst continuing global economic uncertainty, India remains a strong performer, and is well positioned to take advantage of the many economic opportunities that the coming years have to offer. GDP growth remains strong at 7 per cent in FY 2023 and is projected to remain above 6 per cent in FY 2024 as well. Tax revenues saw notable growth in the current year, and the Government is confident of reining in the fiscal deficit to below 4.5 per cent by 2025-26.\\nIn this backdrop, it comes as no surprise that budget focuses on continuity and stability on many fronts, including taxation.\\nThe Government’s ambitious economic agenda focuses on three key aspects- first, to provide opportunities to citizens, second, to provide a strong impetus to growth and job creation and finally, to strengthen macro-economic stability. Among the many priority areas outlined in the budget, agriculture and infrastructure are key. There is a sustained push towards building of digital public infrastructure in agriculture, strengthening credit to farmers and promotion of the cooperative sector.\\nThe Government rightly sees infrastructure development as a driver of growth and employment. This is reflected in record capital outlays this year, which saw a 33 per cent increase to reach INR10 lakh crore. There is also a focus on enhancing private investment in this sector. Capital outlays for the railways too has seen a significant increase over the years.\\nMedium, small and micro enterprises (MSMEs) is another important area where the Budget makes strong policy interventions. In addition to enhanced funding for credit guarantees for this sector, the Government also proposes to return 95 per cent of sums forfeited due to non-execution of contracts by MSMEs. A scheme to settle contractual disputes with graded settlement terms is also on the cards.\\nThe Budget also reiterated India’s commitment to green growth and to move towards a net-zero carbon emission by 2070. To this end, several measures are envisaged in the Budget including increased funding of energy transition and promotion of energy-efficient coastal shipping.\\nFor the financial sector, the Government plans to undertake a comprehensive review of financial sector regulations to simplify and ease compliance. The IFSC framework is sought to be expanded by several policy changes including a single window clearance system, recognition of offshore derivative instruments, enabling of acquisition financing and setting up of data embassies.\\nOn the direct tax front, the Budget continued its focus on easing compliance, widening the tax base and rationalisation of various provisions. The new tax regime introduced for individuals in 2020 saw a series of changes designed to make it more attractive for taxpayers, including through a change in the slab rates, rebate and surcharge. Provisions benefitting MSMEs and start-ups were also introduced.\\nAnti-abuse provisions that targeted companies raising capital at high premiums were expanded so as to cover investments by non-residents. This is an important change and could have a bearing on foreign inflows into India.\\nAs many countries move to implement the Global Minimum Tax Rules (GLobE), there was an expectation that the Government would provide guidance on India’s adoption of these rules, including through a detailed public consultation process. However, there was no announcement in this regard.\\nAs regards indirect taxes, the proposals aim to boost domestic manufacturing, promote exports, and enhance domestic value addition, encouraging green energy and mobility. From a GST perspective, restrictions are placed on Input Tax Credit on activities pertaining to Corporate Social Responsibility obligations as per Companies Act, 2013. Penal provisions are introduced on electronic commerce operators for contravening provisions relating to supply of goods made through them by unregistered persons or composition taxpayers making interstate supplies. The monetary threshold for launching prosecution for offences under the GST law is also increased from INR1 crore to INR2 crore, except for issuance of fake invoices.\\nDecriminalisation of certain provisions in GST law, such as obstructing an officer from discharge of duties, possession of illegally supplied goods, destruction of evidence/documents was also announced in the budget. The Online Information and Database Access or Retrieval services (OIDAR) of IGST Act are also proposed to be amended to remove the condition of rendering of the said supply being essentially automated and involving minimal human intervention.\\nThis microsite is your consolidated resource for all Budget related information. Through this platform, KPMG in India’s partners and sector leaders will engage with you and share their views and insights on Union Budget 2023-24.'"
      ]
     },
     "execution_count": 9,
     "metadata": {},
     "output_type": "execute_result"
    }
   ],
   "source": [
    "text_1"
   ]
  },
  {
   "cell_type": "code",
   "execution_count": 10,
   "id": "44f6f749",
   "metadata": {},
   "outputs": [],
   "source": [
    "text_2='''States and Capitals 2023\n",
    "According to the Jammu and Kashmir Reorganisation Act, 2019, the appointed day for the two Union Territories J&K and Ladakh was October 31. This is for the first time that a state is converted into two Union Territories. The total number of states in the country will now be 28, with effect from 26th January 2020, India has 8 union territories. \n",
    "Countries Capital and Currencies\n",
    "The Union Territories of Daman and Diu, Dadra and Nagar Haveli have become a single union territory since January 26 through a Bill passed by the Parliament in the winter session. With the merger of Daman and Diu, and Dadra and Nagar Haveli, the number of UT’s have come down to eight. The legislatures of three states Himachal Pradesh, Maharashtra and Uttarakhand meet in different capitals for their summer and winter sessions. Ladakh has both Leh and Kargil as its administrative capitals.\n",
    "As students, you should know the complete list of Indian States and capitals so that you can answer general Knowledge questions. Here, we are providing the latest list of Indian States and Capitals in 2023.\n",
    "India is a federal union made up of 28 states and 8 union territories, totalling 36 separate entities. Districts and smaller administrative units are subdivided further inside the states and union territories. Each state in India has its own administrative, legislative, and judicial capital. All three responsibilities, according to some accounts, are carried out in the same capital. Each state is led by a Chief Minister.\n",
    "Union Territories Of India\n",
    "According to The States Reorganization Act 1956, the states of India were organized based on linguistic lines. There are 28 states and 8 Union Territories in India now. India consists of 400 cities altogether. India has eight metropolitan cities and they are Kolkata, Mumbai, New Delhi, Chennai, Hyderabad, Bangalore, Ahmedabad and Pune. The Prime Minister of India planned to develop 100 smart cities in India in the future. Indore bagged continuously 4 times the award of Smart city.'''"
   ]
  },
  {
   "cell_type": "code",
   "execution_count": 11,
   "id": "99a949c9",
   "metadata": {},
   "outputs": [
    {
     "data": {
      "text/plain": [
       "'States and Capitals 2023\\nAccording to the Jammu and Kashmir Reorganisation Act, 2019, the appointed day for the two Union Territories J&K and Ladakh was October 31. This is for the first time that a state is converted into two Union Territories. The total number of states in the country will now be 28, with effect from 26th January 2020, India has\\xa08 union territories.\\xa0\\nCountries Capital and Currencies\\nThe Union Territories of Daman and Diu, Dadra and Nagar Haveli have become a single union territory since January 26 through a Bill passed by the Parliament in the winter session. With the merger of\\xa0Daman and Diu, and Dadra and Nagar Haveli, the number of UT’s have come down to eight. The legislatures of three states Himachal Pradesh, Maharashtra and Uttarakhand meet in different capitals for their summer and winter sessions. Ladakh has both Leh and Kargil as its administrative capitals.\\nAs students, you should know the complete list of Indian States and capitals so that you can answer general Knowledge questions. Here, we are providing the latest list of Indian States and Capitals in 2023.\\nIndia is a federal union made up of 28 states and 8 union territories, totalling 36 separate entities. Districts and smaller administrative units are subdivided further inside the states and union territories. Each state in India has its own administrative, legislative, and judicial capital. All three responsibilities, according to some accounts, are carried out in the same capital. Each state is led by a Chief Minister.\\nUnion Territories Of India\\nAccording to The States Reorganization Act 1956, the states of India were organized based on linguistic lines. There are 28 states and 8 Union Territories in India now. India consists of 400 cities altogether. India has eight metropolitan cities and they are Kolkata, Mumbai, New Delhi, Chennai, Hyderabad, Bangalore, Ahmedabad and Pune. The Prime Minister of India planned to develop 100 smart cities in India in the future. Indore bagged continuously 4 times the award of Smart city.'"
      ]
     },
     "execution_count": 11,
     "metadata": {},
     "output_type": "execute_result"
    }
   ],
   "source": [
    "text_2"
   ]
  },
  {
   "cell_type": "code",
   "execution_count": 12,
   "id": "40cf5c88",
   "metadata": {},
   "outputs": [],
   "source": [
    "text_3='''Strong economic growth in the first quarter of FY 2022-23 helped India overcome the UK to become the fifth-largest economy after it recovered from repeated waves of COVID-19 pandemic shock. Real GDP in the first quarter of 2022–23 is currently about 4% higher than its corresponding 2019-20, indicating a strong start for India's recovery from the pandemic. Given the release of pent-up demand and the widespread vaccination coverage, the contact-intensive services sector will probably be the main driver of development in 2022–2023. Rising employment and substantially increasing private consumption, supported by rising consumer sentiment, will support GDP growth in the coming months.\n",
    "Future capital spending of the government in the economy is expected to be supported by factors such as tax buoyancy, the streamlined tax system with low rates, a thorough assessment and rationalisation of the tariff structure, and the digitization of tax filing. In the medium run, increased capital spending on infrastructure and asset-building projects is set to increase growth multipliers, and with the revival in monsoon and the Kharif sowing, agriculture is also picking up momentum. The contact-based services sector has largely demonstrated promise to boost growth by unleashing the pent-up demand over the period of April-September 2022. The sector's success is being captured by a number of HFIs (High-Frequency Indicators) that are performing well, indicating the beginnings of a comeback.\n",
    "India has emerged as the fastest-growing major economy in the world and is expected to be one of the top three economic powers in the world over the next 10-15 years, backed by its robust democracy and strong partnerships.\n",
    "India’s nominal gross domestic product (GDP) at current prices is estimated to be at Rs. 232.15 trillion (US$ 3.12 trillion) in FY22. With more than 100 unicorns valued at US$ 332.7 billion, India has the third-largest unicorn base in the world. The government is also focusing on renewable sources to generate energy and is planning to achieve 40% of its energy from non-fossil sources by 2030.\n",
    "According to the McKinsey Global Institute, India needs to boost its rate of employment growth and create 90 million non-farm jobs between 2023 and 2030 in order to increase productivity and economic growth. The net employment rate needs to grow by 1.5% per annum from 2023 to 2030 to achieve 8-8.5% GDP growth between 2023 and 2030. India's current account deficit (CAD), primarily driven by an increase in the trade deficit, stood at 2.1% of GDP in the first quarter of FY 2022-23.\n",
    "Exports fared remarkably well during the pandemic and aided recovery when all other growth engines were losing steam in terms of their contribution to GDP. Going forward, the contribution of merchandise exports may waver as several of India’s trade partners witness an economic slowdown. According to Mr. Piyush Goyal, Minister of Commerce and Industry, Consumer Affairs, Food and Public Distribution and Textiles, Indian exports are expected to reach US$ 1 trillion by 2030.'''"
   ]
  },
  {
   "cell_type": "code",
   "execution_count": 13,
   "id": "f3bd2c11",
   "metadata": {},
   "outputs": [
    {
     "data": {
      "text/plain": [
       "\"Strong economic growth in the first quarter of FY 2022-23 helped India overcome the UK to become the fifth-largest economy after it recovered from repeated waves of COVID-19 pandemic shock. Real GDP in the first quarter of 2022–23 is currently about 4% higher than its corresponding 2019-20, indicating a strong start for India's recovery from the pandemic. Given the release of pent-up demand and the widespread vaccination coverage, the contact-intensive services sector will probably be the main driver of development in 2022–2023. Rising employment and substantially increasing private consumption, supported by rising consumer sentiment, will support GDP growth in the coming months.\\nFuture capital spending of the government in the economy is expected to be supported by factors such as tax buoyancy, the streamlined tax system with low rates, a thorough assessment and rationalisation of the tariff structure, and the digitization of tax filing. In the medium run, increased capital spending on infrastructure and asset-building projects is set to increase growth multipliers, and with the revival in monsoon and the Kharif sowing, agriculture is also picking up momentum. The contact-based services sector has largely demonstrated promise to boost growth by unleashing the pent-up demand over the period of April-September 2022. The sector's success is being captured by a number of HFIs (High-Frequency Indicators) that are performing well, indicating the beginnings of a comeback.\\nIndia has emerged as the fastest-growing major economy in the world and is expected to be one of the top three economic powers in the world over the next 10-15 years, backed by its robust democracy and strong partnerships.\\nIndia’s nominal gross domestic product (GDP) at current prices is estimated to be at Rs. 232.15 trillion (US$ 3.12 trillion) in FY22. With more than 100 unicorns valued at US$ 332.7 billion, India has the third-largest unicorn base in the world. The government is also focusing on renewable sources to generate energy and is planning to achieve 40% of its energy from non-fossil sources by 2030.\\nAccording to the McKinsey Global Institute, India needs to boost its rate of employment growth and create 90 million non-farm jobs between 2023 and 2030 in order to increase productivity and economic growth. The net employment rate needs to grow by 1.5% per annum from 2023 to 2030 to achieve 8-8.5% GDP growth between 2023 and 2030. India's current account deficit (CAD), primarily driven by an increase in the trade deficit, stood at 2.1% of GDP in the first quarter of FY 2022-23.\\nExports fared remarkably well during the pandemic and aided recovery when all other growth engines were losing steam in terms of their contribution to GDP. Going forward, the contribution of merchandise exports may waver as several of India’s trade partners witness an economic slowdown. According to Mr. Piyush Goyal, Minister of Commerce and Industry, Consumer Affairs, Food and Public Distribution and Textiles, Indian exports are expected to reach US$ 1 trillion by 2030.\""
      ]
     },
     "execution_count": 13,
     "metadata": {},
     "output_type": "execute_result"
    }
   ],
   "source": [
    "text_3"
   ]
  },
  {
   "cell_type": "code",
   "execution_count": 14,
   "id": "61e02d39",
   "metadata": {},
   "outputs": [],
   "source": [
    "texts=[text_1,text_2,text_3]"
   ]
  },
  {
   "cell_type": "code",
   "execution_count": 15,
   "id": "28cc64ae",
   "metadata": {},
   "outputs": [
    {
     "name": "stdout",
     "output_type": "stream",
     "text": [
      "['Amidst continuing global economic uncertainty, India remains a strong performer, and is well positioned to take advantage of the many economic opportunities that the coming years have to offer. GDP growth remains strong at 7 per cent in FY 2023 and is projected to remain above 6 per cent in FY 2024 as well. Tax revenues saw notable growth in the current year, and the Government is confident of reining in the fiscal deficit to below 4.5 per cent by 2025-26.\\nIn this backdrop, it comes as no surprise that budget focuses on continuity and stability on many fronts, including taxation.\\nThe Government’s ambitious economic agenda focuses on three key aspects- first, to provide opportunities to citizens, second, to provide a strong impetus to growth and job creation and finally, to strengthen macro-economic stability. Among the many priority areas outlined in the budget, agriculture and infrastructure are key. There is a sustained push towards building of digital public infrastructure in agriculture, strengthening credit to farmers and promotion of the cooperative sector.\\nThe Government rightly sees infrastructure development as a driver of growth and employment. This is reflected in record capital outlays this year, which saw a 33 per cent increase to reach INR10 lakh crore. There is also a focus on enhancing private investment in this sector. Capital outlays for the railways too has seen a significant increase over the years.\\nMedium, small and micro enterprises (MSMEs) is another important area where the Budget makes strong policy interventions. In addition to enhanced funding for credit guarantees for this sector, the Government also proposes to return 95 per cent of sums forfeited due to non-execution of contracts by MSMEs. A scheme to settle contractual disputes with graded settlement terms is also on the cards.\\nThe Budget also reiterated India’s commitment to green growth and to move towards a net-zero carbon emission by 2070. To this end, several measures are envisaged in the Budget including increased funding of energy transition and promotion of energy-efficient coastal shipping.\\nFor the financial sector, the Government plans to undertake a comprehensive review of financial sector regulations to simplify and ease compliance. The IFSC framework is sought to be expanded by several policy changes including a single window clearance system, recognition of offshore derivative instruments, enabling of acquisition financing and setting up of data embassies.\\nOn the direct tax front, the Budget continued its focus on easing compliance, widening the tax base and rationalisation of various provisions. The new tax regime introduced for individuals in 2020 saw a series of changes designed to make it more attractive for taxpayers, including through a change in the slab rates, rebate and surcharge. Provisions benefitting MSMEs and start-ups were also introduced.\\nAnti-abuse provisions that targeted companies raising capital at high premiums were expanded so as to cover investments by non-residents. This is an important change and could have a bearing on foreign inflows into India.\\nAs many countries move to implement the Global Minimum Tax Rules (GLobE), there was an expectation that the Government would provide guidance on India’s adoption of these rules, including through a detailed public consultation process. However, there was no announcement in this regard.\\nAs regards indirect taxes, the proposals aim to boost domestic manufacturing, promote exports, and enhance domestic value addition, encouraging green energy and mobility. From a GST perspective, restrictions are placed on Input Tax Credit on activities pertaining to Corporate Social Responsibility obligations as per Companies Act, 2013. Penal provisions are introduced on electronic commerce operators for contravening provisions relating to supply of goods made through them by unregistered persons or composition taxpayers making interstate supplies. The monetary threshold for launching prosecution for offences under the GST law is also increased from INR1 crore to INR2 crore, except for issuance of fake invoices.\\nDecriminalisation of certain provisions in GST law, such as obstructing an officer from discharge of duties, possession of illegally supplied goods, destruction of evidence/documents was also announced in the budget. The Online Information and Database Access or Retrieval services (OIDAR) of IGST Act are also proposed to be amended to remove the condition of rendering of the said supply being essentially automated and involving minimal human intervention.\\nThis microsite is your consolidated resource for all Budget related information. Through this platform, KPMG in India’s partners and sector leaders will engage with you and share their views and insights on Union Budget 2023-24.', 'States and Capitals 2023\\nAccording to the Jammu and Kashmir Reorganisation Act, 2019, the appointed day for the two Union Territories J&K and Ladakh was October 31. This is for the first time that a state is converted into two Union Territories. The total number of states in the country will now be 28, with effect from 26th January 2020, India has\\xa08 union territories.\\xa0\\nCountries Capital and Currencies\\nThe Union Territories of Daman and Diu, Dadra and Nagar Haveli have become a single union territory since January 26 through a Bill passed by the Parliament in the winter session. With the merger of\\xa0Daman and Diu, and Dadra and Nagar Haveli, the number of UT’s have come down to eight. The legislatures of three states Himachal Pradesh, Maharashtra and Uttarakhand meet in different capitals for their summer and winter sessions. Ladakh has both Leh and Kargil as its administrative capitals.\\nAs students, you should know the complete list of Indian States and capitals so that you can answer general Knowledge questions. Here, we are providing the latest list of Indian States and Capitals in 2023.\\nIndia is a federal union made up of 28 states and 8 union territories, totalling 36 separate entities. Districts and smaller administrative units are subdivided further inside the states and union territories. Each state in India has its own administrative, legislative, and judicial capital. All three responsibilities, according to some accounts, are carried out in the same capital. Each state is led by a Chief Minister.\\nUnion Territories Of India\\nAccording to The States Reorganization Act 1956, the states of India were organized based on linguistic lines. There are 28 states and 8 Union Territories in India now. India consists of 400 cities altogether. India has eight metropolitan cities and they are Kolkata, Mumbai, New Delhi, Chennai, Hyderabad, Bangalore, Ahmedabad and Pune. The Prime Minister of India planned to develop 100 smart cities in India in the future. Indore bagged continuously 4 times the award of Smart city.', \"Strong economic growth in the first quarter of FY 2022-23 helped India overcome the UK to become the fifth-largest economy after it recovered from repeated waves of COVID-19 pandemic shock. Real GDP in the first quarter of 2022–23 is currently about 4% higher than its corresponding 2019-20, indicating a strong start for India's recovery from the pandemic. Given the release of pent-up demand and the widespread vaccination coverage, the contact-intensive services sector will probably be the main driver of development in 2022–2023. Rising employment and substantially increasing private consumption, supported by rising consumer sentiment, will support GDP growth in the coming months.\\nFuture capital spending of the government in the economy is expected to be supported by factors such as tax buoyancy, the streamlined tax system with low rates, a thorough assessment and rationalisation of the tariff structure, and the digitization of tax filing. In the medium run, increased capital spending on infrastructure and asset-building projects is set to increase growth multipliers, and with the revival in monsoon and the Kharif sowing, agriculture is also picking up momentum. The contact-based services sector has largely demonstrated promise to boost growth by unleashing the pent-up demand over the period of April-September 2022. The sector's success is being captured by a number of HFIs (High-Frequency Indicators) that are performing well, indicating the beginnings of a comeback.\\nIndia has emerged as the fastest-growing major economy in the world and is expected to be one of the top three economic powers in the world over the next 10-15 years, backed by its robust democracy and strong partnerships.\\nIndia’s nominal gross domestic product (GDP) at current prices is estimated to be at Rs. 232.15 trillion (US$ 3.12 trillion) in FY22. With more than 100 unicorns valued at US$ 332.7 billion, India has the third-largest unicorn base in the world. The government is also focusing on renewable sources to generate energy and is planning to achieve 40% of its energy from non-fossil sources by 2030.\\nAccording to the McKinsey Global Institute, India needs to boost its rate of employment growth and create 90 million non-farm jobs between 2023 and 2030 in order to increase productivity and economic growth. The net employment rate needs to grow by 1.5% per annum from 2023 to 2030 to achieve 8-8.5% GDP growth between 2023 and 2030. India's current account deficit (CAD), primarily driven by an increase in the trade deficit, stood at 2.1% of GDP in the first quarter of FY 2022-23.\\nExports fared remarkably well during the pandemic and aided recovery when all other growth engines were losing steam in terms of their contribution to GDP. Going forward, the contribution of merchandise exports may waver as several of India’s trade partners witness an economic slowdown. According to Mr. Piyush Goyal, Minister of Commerce and Industry, Consumer Affairs, Food and Public Distribution and Textiles, Indian exports are expected to reach US$ 1 trillion by 2030.\"]\n"
     ]
    }
   ],
   "source": [
    "print(texts)"
   ]
  },
  {
   "cell_type": "code",
   "execution_count": 16,
   "id": "08cab27c",
   "metadata": {},
   "outputs": [],
   "source": [
    "nlp=spacy.load('en_core_web_sm')"
   ]
  },
  {
   "cell_type": "markdown",
   "id": "1e8b856a",
   "metadata": {},
   "source": [
    "## Create a word list"
   ]
  },
  {
   "cell_type": "code",
   "execution_count": 32,
   "id": "097b9b04",
   "metadata": {},
   "outputs": [],
   "source": [
    "words_list=[]\n",
    "for text in texts:\n",
    "    text_words=[]\n",
    "    doc=nlp(text)\n",
    "    for token in doc:\n",
    "        if token.is_stop==False and token.is_punct==False and token.text!='\\n' and token.like_num==False:\n",
    "            text_words.append(token.lemma_)\n",
    "    words_list.append(text_words)"
   ]
  },
  {
   "cell_type": "code",
   "execution_count": 33,
   "id": "c46ee04c",
   "metadata": {},
   "outputs": [
    {
     "name": "stdout",
     "output_type": "stream",
     "text": [
      "[['amidst', 'continue', 'global', 'economic', 'uncertainty', 'India', 'remain', 'strong', 'performer', 'positioned', 'advantage', 'economic', 'opportunity', 'come', 'year', 'offer', 'GDP', 'growth', 'remain', 'strong', 'cent', 'FY', 'project', 'remain', 'cent', 'FY', 'tax', 'revenue', 'see', 'notable', 'growth', 'current', 'year', 'Government', 'confident', 'rein', 'fiscal', 'deficit', 'cent', 'backdrop', 'come', 'surprise', 'budget', 'focus', 'continuity', 'stability', 'front', 'include', 'taxation', 'Government', 'ambitious', 'economic', 'agenda', 'focus', 'key', 'aspects-', 'provide', 'opportunity', 'citizen', 'provide', 'strong', 'impetus', 'growth', 'job', 'creation', 'finally', 'strengthen', 'macro', 'economic', 'stability', 'priority', 'area', 'outline', 'budget', 'agriculture', 'infrastructure', 'key', 'sustained', 'push', 'building', 'digital', 'public', 'infrastructure', 'agriculture', 'strengthen', 'credit', 'farmer', 'promotion', 'cooperative', 'sector', 'Government', 'rightly', 'see', 'infrastructure', 'development', 'driver', 'growth', 'employment', 'reflect', 'record', 'capital', 'outlay', 'year', 'see', 'cent', 'increase', 'reach', 'INR10', 'lakh', 'crore', 'focus', 'enhance', 'private', 'investment', 'sector', 'capital', 'outlay', 'railway', 'see', 'significant', 'increase', 'year', 'Medium', 'small', 'micro', 'enterprise', 'msme', 'important', 'area', 'Budget', 'make', 'strong', 'policy', 'intervention', 'addition', 'enhance', 'funding', 'credit', 'guarantee', 'sector', 'Government', 'propose', 'return', 'cent', 'sum', 'forfeit', 'non', 'execution', 'contract', 'msme', 'scheme', 'settle', 'contractual', 'dispute', 'grade', 'settlement', 'term', 'card', 'Budget', 'reiterate', 'India', 'commitment', 'green', 'growth', 'net', 'carbon', 'emission', 'end', 'measure', 'envisage', 'Budget', 'include', 'increase', 'funding', 'energy', 'transition', 'promotion', 'energy', 'efficient', 'coastal', 'shipping', 'financial', 'sector', 'Government', 'plan', 'undertake', 'comprehensive', 'review', 'financial', 'sector', 'regulation', 'simplify', 'ease', 'compliance', 'IFSC', 'framework', 'seek', 'expand', 'policy', 'change', 'include', 'single', 'window', 'clearance', 'system', 'recognition', 'offshore', 'derivative', 'instrument', 'enable', 'acquisition', 'financing', 'set', 'data', 'embassy', 'direct', 'tax', 'Budget', 'continue', 'focus', 'ease', 'compliance', 'widen', 'tax', 'base', 'rationalisation', 'provision', 'new', 'tax', 'regime', 'introduce', 'individual', 'see', 'series', 'change', 'design', 'attractive', 'taxpayer', 'include', 'change', 'slab', 'rate', 'rebate', 'surcharge', 'provision', 'benefit', 'msme', 'start', 'up', 'introduce', 'anti', 'abuse', 'provision', 'target', 'company', 'raise', 'capital', 'high', 'premium', 'expand', 'cover', 'investment', 'non', 'resident', 'important', 'change', 'bearing', 'foreign', 'inflow', 'India', 'country', 'implement', 'Global', 'Minimum', 'Tax', 'Rules', 'GLobE', 'expectation', 'Government', 'provide', 'guidance', 'India', 'adoption', 'rule', 'include', 'detailed', 'public', 'consultation', 'process', 'announcement', 'regard', 'regard', 'indirect', 'taxis', 'proposal', 'aim', 'boost', 'domestic', 'manufacturing', 'promote', 'export', 'enhance', 'domestic', 'value', 'addition', 'encourage', 'green', 'energy', 'mobility', 'GST', 'perspective', 'restriction', 'place', 'Input', 'Tax', 'Credit', 'activity', 'pertain', 'Corporate', 'Social', 'Responsibility', 'obligation', 'Companies', 'Act', 'penal', 'provision', 'introduce', 'electronic', 'commerce', 'operator', 'contravene', 'provision', 'relate', 'supply', 'good', 'unregistered', 'person', 'composition', 'taxpayer', 'make', 'interstate', 'supply', 'monetary', 'threshold', 'launch', 'prosecution', 'offence', 'GST', 'law', 'increase', 'INR1', 'crore', 'INR2', 'crore', 'issuance', 'fake', 'invoice', 'decriminalisation', 'certain', 'provision', 'GST', 'law', 'obstruct', 'officer', 'discharge', 'duty', 'possession', 'illegally', 'supply', 'good', 'destruction', 'evidence', 'document', 'announce', 'budget', 'Online', 'Information', 'Database', 'Access', 'Retrieval', 'service', 'OIDAR', 'IGST', 'Act', 'propose', 'amend', 'remove', 'condition', 'rendering', 'say', 'supply', 'essentially', 'automate', 'involve', 'minimal', 'human', 'intervention', 'microsite', 'consolidated', 'resource', 'Budget', 'related', 'information', 'platform', 'KPMG', 'India', 'partner', 'sector', 'leader', 'engage', 'share', 'view', 'insight', 'Union', 'Budget'], ['States', 'Capitals', 'accord', 'Jammu', 'Kashmir', 'Reorganisation', 'Act', 'appoint', 'day', 'Union', 'Territories', 'J&K', 'Ladakh', 'October', 'time', 'state', 'convert', 'Union', 'Territories', 'total', 'number', 'state', 'country', 'effect', 'January', 'India', '\\xa0', 'union', 'territory', '\\xa0\\n', 'Countries', 'Capital', 'Currencies', 'Union', 'Territories', 'Daman', 'Diu', 'Dadra', 'Nagar', 'Haveli', 'single', 'union', 'territory', 'January', 'Bill', 'pass', 'Parliament', 'winter', 'session', 'merger', '\\xa0', 'Daman', 'Diu', 'Dadra', 'Nagar', 'Haveli', 'number', 'UT', 'come', 'legislature', 'state', 'Himachal', 'Pradesh', 'Maharashtra', 'Uttarakhand', 'meet', 'different', 'capital', 'summer', 'winter', 'session', 'ladakh', 'Leh', 'Kargil', 'administrative', 'capital', 'student', 'know', 'complete', 'list', 'Indian', 'States', 'capital', 'answer', 'general', 'Knowledge', 'question', 'provide', 'late', 'list', 'Indian', 'States', 'Capitals', 'India', 'federal', 'union', 'state', 'union', 'territory', 'total', 'separate', 'entity', 'district', 'small', 'administrative', 'unit', 'subdivide', 'inside', 'state', 'union', 'territory', 'state', 'India', 'administrative', 'legislative', 'judicial', 'capital', 'responsibility', 'accord', 'account', 'carry', 'capital', 'state', 'lead', 'Chief', 'Minister', 'Union', 'Territories', 'India', 'accord', 'States', 'Reorganization', 'Act', 'state', 'India', 'organize', 'base', 'linguistic', 'line', 'state', 'Union', 'Territories', 'India', 'India', 'consist', 'city', 'altogether', 'India', 'metropolitan', 'city', 'Kolkata', 'Mumbai', 'New', 'Delhi', 'Chennai', 'Hyderabad', 'Bangalore', 'Ahmedabad', 'Pune', 'Prime', 'Minister', 'India', 'plan', 'develop', 'smart', 'city', 'India', 'future', 'indore', 'bag', 'continuously', 'time', 'award', 'Smart', 'city'], ['strong', 'economic', 'growth', 'quarter', 'FY', 'help', 'India', 'overcome', 'UK', 'large', 'economy', 'recover', 'repeat', 'wave', 'covid-19', 'pandemic', 'shock', 'real', 'GDP', 'quarter', '2022–23', 'currently', 'high', 'corresponding', 'indicate', 'strong', 'start', 'India', 'recovery', 'pandemic', 'give', 'release', 'pen', 'demand', 'widespread', 'vaccination', 'coverage', 'contact', 'intensive', 'service', 'sector', 'probably', 'main', 'driver', 'development', '2022–2023', 'rise', 'employment', 'substantially', 'increase', 'private', 'consumption', 'support', 'rise', 'consumer', 'sentiment', 'support', 'GDP', 'growth', 'come', 'month', 'future', 'capital', 'spending', 'government', 'economy', 'expect', 'support', 'factor', 'tax', 'buoyancy', 'streamlined', 'tax', 'system', 'low', 'rate', 'thorough', 'assessment', 'rationalisation', 'tariff', 'structure', 'digitization', 'tax', 'filing', 'medium', 'run', 'increase', 'capital', 'spending', 'infrastructure', 'asset', 'building', 'project', 'set', 'increase', 'growth', 'multiplier', 'revival', 'monsoon', 'Kharif', 'sowing', 'agriculture', 'pick', 'momentum', 'contact', 'base', 'service', 'sector', 'largely', 'demonstrate', 'promise', 'boost', 'growth', 'unleash', 'pen', 'demand', 'period', 'April', 'September', 'sector', 'success', 'capture', 'number', 'hfi', 'high', 'Frequency', 'Indicators', 'perform', 'indicate', 'beginning', 'comeback', 'India', 'emerge', 'fast', 'grow', 'major', 'economy', 'world', 'expect', 'economic', 'power', 'world', 'year', 'back', 'robust', 'democracy', 'strong', 'partnership', 'India', 'nominal', 'gross', 'domestic', 'product', 'GDP', 'current', 'price', 'estimate', 'r', 'us$', 'FY22', 'unicorn', 'value', 'us$', 'India', 'large', 'unicorn', 'base', 'world', 'government', 'focus', 'renewable', 'source', 'generate', 'energy', 'plan', 'achieve', 'energy', 'non', 'fossil', 'source', 'accord', 'McKinsey', 'Global', 'Institute', 'India', 'need', 'boost', 'rate', 'employment', 'growth', 'create', 'non', 'farm', 'job', 'order', 'increase', 'productivity', 'economic', 'growth', 'net', 'employment', 'rate', 'need', 'grow', 'annum', 'achieve', 'GDP', 'growth', 'India', 'current', 'account', 'deficit', 'CAD', 'primarily', 'drive', 'increase', 'trade', 'deficit', 'stand', 'GDP', 'quarter', 'FY', 'export', 'fare', 'remarkably', 'pandemic', 'aid', 'recovery', 'growth', 'engine', 'lose', 'steam', 'term', 'contribution', 'GDP', 'go', 'forward', 'contribution', 'merchandise', 'export', 'waver', 'India', 'trade', 'partner', 'witness', 'economic', 'slowdown', 'accord', 'Mr.', 'Piyush', 'Goyal', 'Minister', 'Commerce', 'Industry', 'Consumer', 'Affairs', 'Food', 'Public', 'Distribution', 'Textiles', 'indian', 'export', 'expect', 'reach', 'us$']]\n"
     ]
    }
   ],
   "source": [
    "print(words_list)"
   ]
  },
  {
   "cell_type": "code",
   "execution_count": 34,
   "id": "cfd73ec6",
   "metadata": {},
   "outputs": [
    {
     "name": "stdout",
     "output_type": "stream",
     "text": [
      "3\n"
     ]
    }
   ],
   "source": [
    "print(len(words_list))"
   ]
  },
  {
   "cell_type": "code",
   "execution_count": 35,
   "id": "ad71e0c9",
   "metadata": {},
   "outputs": [
    {
     "name": "stdout",
     "output_type": "stream",
     "text": [
      "415\n"
     ]
    }
   ],
   "source": [
    "print(len(words_list[0]))"
   ]
  },
  {
   "cell_type": "code",
   "execution_count": 36,
   "id": "19bfe081",
   "metadata": {},
   "outputs": [
    {
     "name": "stdout",
     "output_type": "stream",
     "text": [
      "175\n"
     ]
    }
   ],
   "source": [
    "print(len(words_list[1]))"
   ]
  },
  {
   "cell_type": "code",
   "execution_count": 37,
   "id": "330df741",
   "metadata": {},
   "outputs": [
    {
     "name": "stdout",
     "output_type": "stream",
     "text": [
      "265\n"
     ]
    }
   ],
   "source": [
    "print(len(words_list[2]))"
   ]
  },
  {
   "cell_type": "markdown",
   "id": "dd03403d",
   "metadata": {},
   "source": [
    "## Creating a Corpus"
   ]
  },
  {
   "cell_type": "code",
   "execution_count": 38,
   "id": "ea1fbb4e",
   "metadata": {},
   "outputs": [],
   "source": [
    "from gensim.corpora import Dictionary"
   ]
  },
  {
   "cell_type": "code",
   "execution_count": 39,
   "id": "6d1bfd89",
   "metadata": {},
   "outputs": [],
   "source": [
    "dict=Dictionary(words_list)"
   ]
  },
  {
   "cell_type": "code",
   "execution_count": 40,
   "id": "74c3ae1c",
   "metadata": {},
   "outputs": [
    {
     "data": {
      "text/plain": [
       "gensim.corpora.dictionary.Dictionary"
      ]
     },
     "execution_count": 40,
     "metadata": {},
     "output_type": "execute_result"
    }
   ],
   "source": [
    "type(dict)"
   ]
  },
  {
   "cell_type": "code",
   "execution_count": 41,
   "id": "42bfa506",
   "metadata": {},
   "outputs": [],
   "source": [
    "corpus=[]\n",
    "for word in words_list:\n",
    "    corpus.append(dict.doc2bow(word))"
   ]
  },
  {
   "cell_type": "code",
   "execution_count": 42,
   "id": "bd4071da",
   "metadata": {},
   "outputs": [
    {
     "name": "stdout",
     "output_type": "stream",
     "text": [
      "[[(0, 1), (1, 2), (2, 6), (3, 1), (4, 1), (5, 1), (6, 1), (7, 2), (8, 1), (9, 1), (10, 3), (11, 1), (12, 6), (13, 1), (14, 1), (15, 1), (16, 1), (17, 1), (18, 5), (19, 1), (20, 1), (21, 1), (22, 1), (23, 1), (24, 1), (25, 1), (26, 1), (27, 1), (28, 1), (29, 1), (30, 2), (31, 1), (32, 1), (33, 1), (34, 1), (35, 2), (36, 1), (37, 1), (38, 1), (39, 2), (40, 1), (41, 1), (42, 1), (43, 1), (44, 1), (45, 1), (46, 1), (47, 2), (48, 1), (49, 1), (50, 1), (51, 1), (52, 1), (53, 1), (54, 1), (55, 1), (56, 3), (57, 1), (58, 3), (59, 1), (60, 1), (61, 5), (62, 1), (63, 4), (64, 1), (65, 1), (66, 1), (67, 2), (68, 1), (69, 1), (70, 1), (71, 2), (72, 1), (73, 1), (74, 1), (75, 1), (76, 1), (77, 1), (78, 2), (79, 1), (80, 1), (81, 1), (82, 1), (83, 1), (84, 1), (85, 1), (86, 1), (87, 2), (88, 3), (89, 1), (90, 1), (91, 1), (92, 1), (93, 1), (94, 1), (95, 1), (96, 1), (97, 1), (98, 1), (99, 1), (100, 1), (101, 1), (102, 1), (103, 2), (104, 1), (105, 1), (106, 2), (107, 4), (108, 1), (109, 1), (110, 1), (111, 1), (112, 1), (113, 1), (114, 1), (115, 1), (116, 3), (117, 1), (118, 3), (119, 1), (120, 1), (121, 1), (122, 1), (123, 1), (124, 2), (125, 1), (126, 1), (127, 1), (128, 1), (129, 1), (130, 2), (131, 1), (132, 1), (133, 4), (134, 1), (135, 1), (136, 1), (137, 1), (138, 2), (139, 1), (140, 2), (141, 1), (142, 2), (143, 5), (144, 1), (145, 1), (146, 1), (147, 1), (148, 1), (149, 1), (150, 1), (151, 2), (152, 5), (153, 4), (154, 1), (155, 1), (156, 1), (157, 1), (158, 3), (159, 1), (160, 1), (161, 1), (162, 2), (163, 3), (164, 2), (165, 1), (166, 1), (167, 1), (168, 1), (169, 2), (170, 1), (171, 1), (172, 2), (173, 1), (174, 1), (175, 2), (176, 1), (177, 1), (178, 1), (179, 1), (180, 1), (181, 1), (182, 1), (183, 3), (184, 1), (185, 1), (186, 2), (187, 1), (188, 1), (189, 1), (190, 1), (191, 1), (192, 1), (193, 1), (194, 1), (195, 2), (196, 2), (197, 1), (198, 1), (199, 1), (200, 1), (201, 1), (202, 1), (203, 1), (204, 1), (205, 1), (206, 1), (207, 2), (208, 1), (209, 1), (210, 1), (211, 1), (212, 1), (213, 1), (214, 1), (215, 1), (216, 2), (217, 1), (218, 2), (219, 1), (220, 3), (221, 6), (222, 2), (223, 1), (224, 1), (225, 1), (226, 1), (227, 1), (228, 1), (229, 1), (230, 1), (231, 1), (232, 1), (233, 2), (234, 1), (235, 1), (236, 1), (237, 1), (238, 1), (239, 1), (240, 3), (241, 1), (242, 1), (243, 1), (244, 1), (245, 1), (246, 1), (247, 1), (248, 1), (249, 1), (250, 1), (251, 1), (252, 1), (253, 6), (254, 5), (255, 1), (256, 1), (257, 1), (258, 1), (259, 1), (260, 1), (261, 1), (262, 1), (263, 1), (264, 1), (265, 1), (266, 1), (267, 1), (268, 2), (269, 1), (270, 2), (271, 4), (272, 1), (273, 4), (274, 1), (275, 1), (276, 1), (277, 1), (278, 1), (279, 4), (280, 1), (281, 1), (282, 2), (283, 1), (284, 1), (285, 1), (286, 1), (287, 1), (288, 1), (289, 1), (290, 1), (291, 1), (292, 1), (293, 1), (294, 4)], [(1, 2), (18, 10), (31, 5), (52, 1), (58, 5), (67, 1), (84, 1), (205, 1), (220, 1), (265, 1), (267, 1), (295, 1), (296, 1), (297, 1), (298, 1), (299, 2), (300, 1), (301, 1), (302, 1), (303, 1), (304, 2), (305, 2), (306, 1), (307, 2), (308, 2), (309, 1), (310, 1), (311, 2), (312, 1), (313, 1), (314, 2), (315, 1), (316, 1), (317, 1), (318, 1), (319, 1), (320, 1), (321, 1), (322, 2), (323, 1), (324, 2), (325, 1), (326, 1), (327, 1), (328, 1), (329, 1), (330, 1), (331, 1), (332, 1), (333, 1), (334, 4), (335, 5), (336, 1), (337, 1), (338, 3), (339, 1), (340, 3), (341, 1), (342, 1), (343, 1), (344, 1), (345, 1), (346, 1), (347, 4), (348, 1), (349, 1), (350, 1), (351, 1), (352, 1), (353, 1), (354, 1), (355, 1), (356, 1), (357, 1), (358, 1), (359, 1), (360, 1), (361, 1), (362, 1), (363, 1), (364, 1), (365, 1), (366, 1), (367, 1), (368, 1), (369, 1), (370, 1), (371, 1), (372, 2), (373, 1), (374, 1), (375, 1), (376, 2), (377, 1), (378, 1), (379, 1), (380, 1), (381, 1), (382, 2), (383, 1), (384, 9), (385, 1), (386, 1), (387, 1), (388, 4), (389, 2), (390, 2), (391, 5), (392, 1), (393, 2), (394, 2), (395, 1)], [(7, 2), (8, 6), (11, 1), (18, 8), (39, 1), (52, 2), (55, 2), (57, 1), (58, 2), (67, 1), (89, 2), (92, 2), (97, 1), (103, 1), (104, 1), (107, 4), (112, 3), (116, 2), (126, 3), (133, 1), (143, 8), (146, 2), (153, 5), (158, 1), (168, 1), (184, 1), (186, 2), (198, 1), (205, 1), (212, 1), (214, 1), (226, 3), (227, 1), (228, 1), (253, 3), (257, 2), (258, 1), (269, 1), (271, 3), (277, 1), (279, 3), (283, 1), (290, 1), (294, 1), (322, 1), (338, 2), (339, 1), (359, 1), (376, 1), (396, 1), (397, 1), (398, 1), (399, 1), (400, 1), (401, 1), (402, 1), (403, 1), (404, 1), (405, 1), (406, 1), (407, 1), (408, 1), (409, 1), (410, 1), (411, 1), (412, 1), (413, 1), (414, 1), (415, 1), (416, 1), (417, 1), (418, 1), (419, 2), (420, 1), (421, 1), (422, 1), (423, 1), (424, 1), (425, 1), (426, 1), (427, 1), (428, 1), (429, 1), (430, 1), (431, 2), (432, 2), (433, 1), (434, 1), (435, 1), (436, 1), (437, 1), (438, 2), (439, 1), (440, 1), (441, 1), (442, 1), (443, 3), (444, 1), (445, 1), (446, 1), (447, 3), (448, 1), (449, 1), (450, 1), (451, 1), (452, 1), (453, 1), (454, 1), (455, 1), (456, 1), (457, 1), (458, 2), (459, 1), (460, 2), (461, 1), (462, 1), (463, 1), (464, 2), (465, 1), (466, 2), (467, 1), (468, 1), (469, 1), (470, 1), (471, 1), (472, 1), (473, 1), (474, 1), (475, 1), (476, 1), (477, 1), (478, 2), (479, 1), (480, 1), (481, 1), (482, 3), (483, 1), (484, 2), (485, 1), (486, 1), (487, 1), (488, 1), (489, 1), (490, 1), (491, 1), (492, 1), (493, 1), (494, 1), (495, 3), (496, 1), (497, 1), (498, 1), (499, 2), (500, 1), (501, 1), (502, 1), (503, 1), (504, 1), (505, 2), (506, 1), (507, 1), (508, 1), (509, 1), (510, 1), (511, 2), (512, 1), (513, 2), (514, 1), (515, 1), (516, 1), (517, 1), (518, 1), (519, 1), (520, 3), (521, 1), (522, 1), (523, 2), (524, 2), (525, 1), (526, 3), (527, 1), (528, 1), (529, 1), (530, 1), (531, 1), (532, 3)]]\n"
     ]
    }
   ],
   "source": [
    "print(corpus)"
   ]
  },
  {
   "cell_type": "markdown",
   "id": "1ed2334d",
   "metadata": {},
   "source": [
    "## Create and LDA Model"
   ]
  },
  {
   "cell_type": "code",
   "execution_count": 43,
   "id": "e9d885e4",
   "metadata": {},
   "outputs": [],
   "source": [
    "lda=gensim.models.ldamodel.LdaModel(corpus=corpus,num_topics=5,id2word=dict)"
   ]
  },
  {
   "cell_type": "code",
   "execution_count": 44,
   "id": "7ec2a8eb",
   "metadata": {},
   "outputs": [
    {
     "data": {
      "text/plain": [
       "gensim.models.ldamodel.LdaModel"
      ]
     },
     "execution_count": 44,
     "metadata": {},
     "output_type": "execute_result"
    }
   ],
   "source": [
    "type(lda)"
   ]
  },
  {
   "cell_type": "markdown",
   "id": "e90a3caa",
   "metadata": {},
   "source": [
    "## Display Topics"
   ]
  },
  {
   "cell_type": "code",
   "execution_count": 45,
   "id": "fe226c38",
   "metadata": {},
   "outputs": [
    {
     "data": {
      "text/plain": [
       "[(0,\n",
       "  '0.012*\"growth\" + 0.011*\"India\" + 0.009*\"sector\" + 0.007*\"increase\" + 0.007*\"strong\" + 0.007*\"Budget\" + 0.006*\"cent\" + 0.006*\"economic\" + 0.006*\"include\" + 0.006*\"Government\"'),\n",
       " (1,\n",
       "  '0.021*\"India\" + 0.010*\"growth\" + 0.009*\"increase\" + 0.008*\"economic\" + 0.008*\"sector\" + 0.006*\"capital\" + 0.006*\"GDP\" + 0.006*\"state\" + 0.005*\"strong\" + 0.005*\"tax\"'),\n",
       " (2,\n",
       "  '0.016*\"India\" + 0.014*\"growth\" + 0.010*\"increase\" + 0.009*\"GDP\" + 0.009*\"economic\" + 0.009*\"sector\" + 0.008*\"tax\" + 0.007*\"capital\" + 0.007*\"strong\" + 0.005*\"export\"'),\n",
       " (3,\n",
       "  '0.019*\"India\" + 0.013*\"state\" + 0.012*\"capital\" + 0.009*\"Union\" + 0.008*\"union\" + 0.008*\"States\" + 0.008*\"provision\" + 0.007*\"Government\" + 0.007*\"Territories\" + 0.007*\"city\"'),\n",
       " (4,\n",
       "  '0.018*\"India\" + 0.010*\"state\" + 0.008*\"capital\" + 0.007*\"Territories\" + 0.007*\"growth\" + 0.007*\"accord\" + 0.006*\"Union\" + 0.006*\"GDP\" + 0.005*\"increase\" + 0.005*\"union\"')]"
      ]
     },
     "execution_count": 45,
     "metadata": {},
     "output_type": "execute_result"
    }
   ],
   "source": [
    "lda.print_topics()   #finding the probability"
   ]
  },
  {
   "cell_type": "markdown",
   "id": "b1da18a8",
   "metadata": {},
   "source": [
    "## Get Topics"
   ]
  },
  {
   "cell_type": "code",
   "execution_count": 46,
   "id": "4c4764c6",
   "metadata": {},
   "outputs": [
    {
     "data": {
      "text/plain": [
       "[]"
      ]
     },
     "execution_count": 46,
     "metadata": {},
     "output_type": "execute_result"
    }
   ],
   "source": [
    "lda.get_term_topics('economy')"
   ]
  },
  {
   "cell_type": "code",
   "execution_count": 48,
   "id": "83ab6902",
   "metadata": {},
   "outputs": [
    {
     "data": {
      "text/plain": [
       "[(3, 0.010336688)]"
      ]
     },
     "execution_count": 48,
     "metadata": {},
     "output_type": "execute_result"
    }
   ],
   "source": [
    "lda.get_term_topics('capital')         #0.010336688 probability chance of capital belonging to the topic 3"
   ]
  },
  {
   "cell_type": "code",
   "execution_count": 49,
   "id": "55cfad61",
   "metadata": {},
   "outputs": [
    {
     "data": {
      "text/plain": [
       "[(1, 0.01966798), (2, 0.014945133), (3, 0.017867623), (4, 0.015542101)]"
      ]
     },
     "execution_count": 49,
     "metadata": {},
     "output_type": "execute_result"
    }
   ],
   "source": [
    "lda.get_term_topics('India')"
   ]
  },
  {
   "cell_type": "code",
   "execution_count": 50,
   "id": "6bb44d59",
   "metadata": {},
   "outputs": [
    {
     "ename": "IndexError",
     "evalue": "list index out of range",
     "output_type": "error",
     "traceback": [
      "\u001b[1;31m---------------------------------------------------------------------------\u001b[0m",
      "\u001b[1;31mIndexError\u001b[0m                                Traceback (most recent call last)",
      "Input \u001b[1;32mIn [50]\u001b[0m, in \u001b[0;36m<cell line: 1>\u001b[1;34m()\u001b[0m\n\u001b[1;32m----> 1\u001b[0m \u001b[43mlda\u001b[49m\u001b[38;5;241;43m.\u001b[39;49m\u001b[43mget_term_topics\u001b[49m\u001b[43m(\u001b[49m\u001b[38;5;124;43m'\u001b[39;49m\u001b[38;5;124;43mpoverty\u001b[39;49m\u001b[38;5;124;43m'\u001b[39;49m\u001b[43m)\u001b[49m\n",
      "File \u001b[1;32m~\\anaconda3\\lib\\site-packages\\gensim\\models\\ldamodel.py:1409\u001b[0m, in \u001b[0;36mLdaModel.get_term_topics\u001b[1;34m(self, word_id, minimum_probability)\u001b[0m\n\u001b[0;32m   1407\u001b[0m \u001b[38;5;66;03m# if user enters word instead of id in vocab, change to get id\u001b[39;00m\n\u001b[0;32m   1408\u001b[0m \u001b[38;5;28;01mif\u001b[39;00m \u001b[38;5;28misinstance\u001b[39m(word_id, \u001b[38;5;28mstr\u001b[39m):\n\u001b[1;32m-> 1409\u001b[0m     word_id \u001b[38;5;241m=\u001b[39m \u001b[38;5;28;43mself\u001b[39;49m\u001b[38;5;241;43m.\u001b[39;49m\u001b[43mid2word\u001b[49m\u001b[38;5;241;43m.\u001b[39;49m\u001b[43mdoc2bow\u001b[49m\u001b[43m(\u001b[49m\u001b[43m[\u001b[49m\u001b[43mword_id\u001b[49m\u001b[43m]\u001b[49m\u001b[43m)\u001b[49m\u001b[43m[\u001b[49m\u001b[38;5;241;43m0\u001b[39;49m\u001b[43m]\u001b[49m[\u001b[38;5;241m0\u001b[39m]\n\u001b[0;32m   1411\u001b[0m values \u001b[38;5;241m=\u001b[39m []\n\u001b[0;32m   1412\u001b[0m \u001b[38;5;28;01mfor\u001b[39;00m topic_id \u001b[38;5;129;01min\u001b[39;00m \u001b[38;5;28mrange\u001b[39m(\u001b[38;5;241m0\u001b[39m, \u001b[38;5;28mself\u001b[39m\u001b[38;5;241m.\u001b[39mnum_topics):\n",
      "\u001b[1;31mIndexError\u001b[0m: list index out of range"
     ]
    }
   ],
   "source": [
    "lda.get_term_topics('poverty')"
   ]
  },
  {
   "cell_type": "code",
   "execution_count": 51,
   "id": "d1e82201",
   "metadata": {},
   "outputs": [
    {
     "data": {
      "text/plain": [
       "[(2, 0.012753172)]"
      ]
     },
     "execution_count": 51,
     "metadata": {},
     "output_type": "execute_result"
    }
   ],
   "source": [
    "lda.get_term_topics('growth')"
   ]
  },
  {
   "cell_type": "markdown",
   "id": "4612df10",
   "metadata": {},
   "source": [
    "## Visualisation of Topics"
   ]
  },
  {
   "cell_type": "code",
   "execution_count": 52,
   "id": "1541e558",
   "metadata": {},
   "outputs": [],
   "source": [
    "import pyLDAvis\n",
    "import pyLDAvis.gensim_models"
   ]
  },
  {
   "cell_type": "code",
   "execution_count": 53,
   "id": "3075243a",
   "metadata": {},
   "outputs": [],
   "source": [
    "pyLDAvis.enable_notebook()"
   ]
  },
  {
   "cell_type": "code",
   "execution_count": 54,
   "id": "46bf3a6e",
   "metadata": {},
   "outputs": [
    {
     "name": "stderr",
     "output_type": "stream",
     "text": [
      "C:\\Users\\Lenovo\\anaconda3\\lib\\site-packages\\pyLDAvis\\_prepare.py:246: FutureWarning: In a future version of pandas all arguments of DataFrame.drop except for the argument 'labels' will be keyword-only.\n",
      "  default_term_info = default_term_info.sort_values(\n"
     ]
    }
   ],
   "source": [
    "plot=pyLDAvis.gensim_models.prepare(lda,corpus=corpus,dictionary=lda.id2word)"
   ]
  },
  {
   "cell_type": "code",
   "execution_count": 55,
   "id": "6fc64e42",
   "metadata": {},
   "outputs": [
    {
     "data": {
      "text/html": [
       "\n",
       "<link rel=\"stylesheet\" type=\"text/css\" href=\"https://cdn.jsdelivr.net/gh/bmabey/pyLDAvis@3.3.1/pyLDAvis/js/ldavis.v1.0.0.css\">\n",
       "\n",
       "\n",
       "<div id=\"ldavis_el107002124648062864894476971\"></div>\n",
       "<script type=\"text/javascript\">\n",
       "\n",
       "var ldavis_el107002124648062864894476971_data = {\"mdsDat\": {\"x\": [0.03146942584850924, -0.017209987209777542, -0.014942781888042949, -0.003144978058720886, 0.0038283213080321427], \"y\": [-0.008629397901394897, 0.003978050542737829, -0.017913903528383984, 0.0020142814621454033, 0.020550969424895663], \"topics\": [1, 2, 3, 4, 5], \"cluster\": [1, 1, 1, 1, 1], \"Freq\": [66.61625664181334, 30.94713349123766, 2.29478486031668, 0.07104766802225336, 0.0707773386100716]}, \"tinfo\": {\"Term\": [\"India\", \"state\", \"capital\", \"growth\", \"Union\", \"increase\", \"sector\", \"Territories\", \"economic\", \"union\", \"accord\", \"tax\", \"strong\", \"city\", \"States\", \"GDP\", \"territory\", \"provision\", \"Budget\", \"include\", \"Government\", \"Act\", \"cent\", \"energy\", \"administrative\", \"focus\", \"see\", \"year\", \"base\", \"Minister\", \"States\", \"city\", \"total\", \"Union\", \"union\", \"state\", \"session\", \"territory\", \"administrative\", \"time\", \"list\", \"entity\", \"complete\", \"Daman\", \"Ladakh\", \"summer\", \"Territories\", \"Capitals\", \"responsibility\", \"Reorganisation\", \"provide\", \"altogether\", \"linguistic\", \"subdivide\", \"January\", \"bag\", \"pass\", \"Mumbai\", \"UT\", \"late\", \"Dadra\", \"Act\", \"Haveli\", \"small\", \"capital\", \"winter\", \"provision\", \"introduce\", \"Indian\", \"India\", \"\\u00a0\", \"see\", \"Government\", \"include\", \"cent\", \"budget\", \"change\", \"Budget\", \"msme\", \"accord\", \"focus\", \"sector\", \"enhance\", \"growth\", \"supply\", \"tax\", \"strong\", \"economic\", \"increase\", \"year\", \"expect\", \"world\", \"pandemic\", \"spending\", \"unicorn\", \"economy\", \"support\", \"indicate\", \"large\", \"pen\", \"us$\", \"demand\", \"trade\", \"GDP\", \"need\", \"government\", \"grow\", \"quarter\", \"contribution\", \"achieve\", \"source\", \"recovery\", \"contact\", \"export\", \"estimate\", \"2022\\u20132023\", \"go\", \"sowing\", \"fossil\", \"aid\", \"rate\", \"employment\", \"rise\", \"growth\", \"increase\", \"economic\", \"high\", \"tax\", \"sector\", \"India\", \"FY\", \"strong\", \"current\", \"base\", \"year\", \"capital\", \"Budget\", \"energy\", \"Government\", \"focus\", \"provision\", \"state\", \"accord\", \"come\", \"see\", \"shock\", \"design\", \"economy\", \"us$\", \"largely\", \"fast\", \"deficit\", \"stand\", \"Kharif\", \"McKinsey\", \"quarter\", \"rise\", \"help\", \"electronic\", \"price\", \"Frequency\", \"intensive\", \"Goyal\", \"momentum\", \"source\", \"Distribution\", \"buoyancy\", \"order\", \"primarily\", \"September\", \"nominal\", \"Textiles\", \"premium\", \"pandemic\", \"important\", \"infrastructure\", \"sector\", \"growth\", \"unregistered\", \"strong\", \"rate\", \"domestic\", \"cent\", \"energy\", \"increase\", \"include\", \"remain\", \"Budget\", \"net\", \"GDP\", \"compliance\", \"non\", \"year\", \"boost\", \"addition\", \"focus\", \"economic\", \"regard\", \"supply\", \"FY\", \"India\", \"tax\", \"Government\", \"see\", \"provision\", \"change\", \"msme\", \"enhance\", \"export\", \"budget\", \"capital\", \"quarter\", \"grow\", \"achieve\", \"government\", \"order\", \"McKinsey\", \"recovery\", \"support\", \"shock\", \"nominal\", \"us$\", \"intensive\", \"need\", \"covid-19\", \"tariff\", \"power\", \"Industry\", \"asset\", \"stand\", \"corresponding\", \"assessment\", \"democracy\", \"unicorn\", \"large\", \"consumption\", \"engine\", \"help\", \"CAD\", \"buoyancy\", \"give\", \"rise\", \"contribution\", \"pen\", \"source\", \"increase\", \"pandemic\", \"India\", \"economic\", \"GDP\", \"expect\", \"growth\", \"boost\", \"sector\", \"employment\", \"service\", \"export\", \"deficit\", \"rate\", \"non\", \"strong\", \"include\", \"energy\", \"tax\", \"capital\", \"state\", \"focus\", \"cent\", \"accord\", \"provision\", \"year\", \"Budget\", \"base\", \"Union\", \"FY\", \"Government\", \"union\", \"contact\", \"us$\", \"rise\", \"shock\", \"help\", \"steam\", \"UK\", \"largely\", \"source\", \"government\", \"April\", \"expect\", \"economy\", \"substantially\", \"remarkably\", \"coverage\", \"generate\", \"vaccination\", \"price\", \"CAD\", \"slowdown\", \"month\", \"McKinsey\", \"beginning\", \"comeback\", \"quarter\", \"structure\", \"Kharif\", \"corresponding\", \"monsoon\", \"achieve\", \"support\", \"Nagar\", \"need\", \"grow\", \"accord\", \"world\", \"India\", \"Territories\", \"recovery\", \"GDP\", \"demand\", \"state\", \"employment\", \"pandemic\", \"plan\", \"capital\", \"winter\", \"future\", \"Union\", \"number\", \"growth\", \"\\u00a0\", \"increase\", \"territory\", \"Minister\", \"union\", \"city\", \"States\", \"strong\", \"administrative\", \"tax\", \"sector\", \"base\", \"economic\", \"Act\"], \"Freq\": [15.0, 8.0, 8.0, 7.0, 6.0, 5.0, 5.0, 4.0, 5.0, 5.0, 3.0, 5.0, 4.0, 4.0, 4.0, 3.0, 4.0, 5.0, 4.0, 3.0, 5.0, 3.0, 4.0, 3.0, 3.0, 3.0, 4.0, 3.0, 3.0, 2.0, 4.348977406082653, 3.8649421825674484, 2.189857634969405, 5.282783010806445, 4.611807850819989, 7.349116566913522, 1.991211673465103, 3.594760197095426, 2.789450867429689, 1.9446915225962655, 1.9727002085117369, 1.2738505670838611, 1.2894523676447793, 2.12960884381235, 1.290303080788098, 1.2644687195332427, 4.00122046053684, 1.9707364734803634, 1.24164639999689, 1.2165054727290048, 3.7016007502043107, 1.1969877394464878, 1.2653097519190457, 1.2546399657795089, 1.9979892646309219, 1.1857587237940324, 1.2051048557036024, 1.2551795685511633, 1.217104884016269, 1.2524987943980557, 1.9520050033664726, 3.188413450481866, 1.8403630597561083, 1.950907762439299, 6.710203545366104, 1.6959498953719718, 4.339150243686319, 2.560215038307413, 1.8819700272661288, 11.001701917846082, 1.7532717824314141, 3.56251186984061, 4.159898154813582, 2.9568637877002577, 2.9840134058460612, 2.358899309538686, 2.8477815424674984, 3.343166592184428, 2.320180788322449, 2.7565750149068786, 2.6581885479845195, 3.257040207896489, 2.2363504675362122, 3.62832696395599, 2.418274975935708, 2.8981541043750583, 2.7282154346847474, 2.6666877226307064, 2.4644410497830864, 2.3613852750234328, 1.1706660896898695, 1.2234027503502842, 1.125203927046779, 0.9501664318461759, 0.8537136605650877, 1.05668034891574, 1.0415757852733665, 0.9145567537044281, 0.8311725121482462, 0.806700800178145, 0.9485013923990704, 0.8367639200077679, 0.830091440915116, 2.3597424257339483, 0.7640219585540643, 0.7302133470581199, 0.7368258213991722, 0.9331583499133275, 0.8053223542674266, 0.7271676438655347, 0.7217229827393908, 0.7299063001567112, 0.688850051086664, 1.4282307565244239, 0.546677355477996, 0.5442623182424174, 0.5336063614922438, 0.547772842637075, 0.5378487713581567, 0.5418977983541814, 1.3452452939796422, 1.3327286970777137, 0.6652819835687825, 3.7516032796456407, 2.558112220295994, 2.335985965474392, 1.1700577869000401, 2.131452561684389, 2.2857939005635335, 4.331822120743877, 1.322587647631307, 1.7933520307989963, 1.0341735153311786, 1.2058079279100087, 1.3223545285552776, 1.9562088694574986, 1.4085556050779746, 1.1999496406008676, 1.4255415086632093, 1.2038733599328744, 1.2330036338192527, 1.2764559453163644, 1.1026866203536223, 1.0638726638338505, 1.0381743660276643, 0.03276247752583197, 0.0437284268491886, 0.06586955512896436, 0.05907112469655644, 0.03357007713960869, 0.03268642558523625, 0.07135724991724171, 0.03172006617499611, 0.03166048499796466, 0.030301323801438292, 0.05659965590237269, 0.04382325422682471, 0.030361903137348902, 0.041891298301231485, 0.031570815155223586, 0.031244236756542226, 0.030605001648809808, 0.031191290937734897, 0.03247493239279334, 0.04380827955952096, 0.031817431205984036, 0.030412375258064412, 0.029460346394295248, 0.03135545266955118, 0.030448069145489007, 0.02976639515451931, 0.03134194897322724, 0.039357381763898795, 0.0590548252417243, 0.0622673070875678, 0.09995021223436666, 0.18345319644014638, 0.23368910297110973, 0.04081494954850437, 0.1405172620586779, 0.07846069668924811, 0.07254760805736955, 0.11994220623031632, 0.10447214148267522, 0.14512257069308407, 0.11531599336235861, 0.0847955565560727, 0.13602861695496213, 0.05265146472321587, 0.10642566403558419, 0.05926483147437241, 0.07870735385410427, 0.103871638137217, 0.06039610409073373, 0.06027364804078125, 0.10034953060482275, 0.11876046834558877, 0.06273401602912361, 0.08855173120357045, 0.0776408724843473, 0.2100974145759303, 0.10548914889059584, 0.1103148199415359, 0.09855564038085281, 0.10230763052705398, 0.08480365146469449, 0.07457569787519586, 0.07386485800155357, 0.06860049041293402, 0.07287347837995815, 0.08883504386886751, 0.0025017208098601037, 0.001884589431978531, 0.001880114154054514, 0.0018359602094875716, 0.0012324553612687705, 0.0011944273794324695, 0.0018246756976221514, 0.0023435484040671356, 0.0011218174023909181, 0.0011768502239997525, 0.002060104847998375, 0.001151065327953719, 0.0016782159266411935, 0.0011596427789675595, 0.0011575088823845808, 0.0011653790889998672, 0.0011346404413171264, 0.0011488855357988314, 0.0011097999050049487, 0.0011267924399554292, 0.0011246586848071868, 0.0011570929935426754, 0.001698541229716367, 0.0016812396598672084, 0.0011300611381446068, 0.0011388093716024536, 0.0010547475654025136, 0.0011031529674233778, 0.0010882882473622175, 0.0011105742601858473, 0.0015036030056732787, 0.0016589559099993584, 0.0015967933633368075, 0.0015295473693844196, 0.0053913801290504625, 0.0020076495330227273, 0.013045874444800501, 0.0049433884307138985, 0.0038450090977906297, 0.0019645100998188143, 0.006237406513928838, 0.0020828488264979413, 0.004581534729787867, 0.0024322831432349846, 0.002129811664926554, 0.0024444510564629422, 0.002006778577916979, 0.0023863505154251233, 0.0024925549903435165, 0.0033327684075625435, 0.0029694019206977194, 0.002722238495994841, 0.0031306140418418974, 0.003919669383486044, 0.0037828055350545703, 0.002620458099625947, 0.002571451812128179, 0.0025331577915530157, 0.00275445591456231, 0.0024658088331126473, 0.002476773419604699, 0.0022385437200162423, 0.0025071448319948, 0.002150692947949876, 0.002277997646863287, 0.0022173022027197242, 0.0020886161215967064, 0.0025507662390232, 0.0019740433816464783, 0.0011923289469524877, 0.0012349339626009563, 0.0012862198990098248, 0.00125217378767401, 0.0012491309848962785, 0.0017630122719589805, 0.0017123338816502037, 0.001240773562708655, 0.0024099919463337945, 0.002310125147165329, 0.0012290623789671165, 0.0012092541499379938, 0.0012044702879861363, 0.0012167061706322992, 0.001208462874683329, 0.0011876473759256454, 0.0011838995266068985, 0.0012700568056846606, 0.0012435616244499844, 0.001108688362781923, 0.0012540664515799773, 0.001198288168265886, 0.0020571909686453774, 0.00119236867979113, 0.0011288677838798516, 0.0011466683069365127, 0.0012266154278724295, 0.0016069395683229505, 0.002113548900534556, 0.0023428290775759416, 0.001591321463011505, 0.0015473033954525959, 0.004057993994427709, 0.002101704287721407, 0.01082965013072363, 0.004410842736060451, 0.0015809762717190362, 0.0035075245397356266, 0.0016478972210302617, 0.006194342781306611, 0.002508352138255442, 0.001913819951785126, 0.0022939572633560736, 0.005129259799968762, 0.002127496394967341, 0.001805296466069901, 0.003906164955213909, 0.0024572176656818237, 0.004198383639423874, 0.0021190206196433354, 0.003268242395497279, 0.0029048038660902126, 0.002313452420160149, 0.0031963961240569013, 0.0028767798159473512, 0.0027799892120486678, 0.002637986019293168, 0.0023592780500841033, 0.002609232970188833, 0.002565633365504987, 0.002245125041078257, 0.0023489604745234567, 0.0022453765414930673], \"Total\": [15.0, 8.0, 8.0, 7.0, 6.0, 5.0, 5.0, 4.0, 5.0, 5.0, 3.0, 5.0, 4.0, 4.0, 4.0, 3.0, 4.0, 5.0, 4.0, 3.0, 5.0, 3.0, 4.0, 3.0, 3.0, 3.0, 4.0, 3.0, 3.0, 2.0, 4.8234246417440785, 4.412544450933089, 2.5315336421662264, 6.11462503704553, 5.425881318178754, 8.65993142252985, 2.3465372736039165, 4.2402298855896845, 3.2970002870141073, 2.312554695164699, 2.3500233414327267, 1.5178522822070228, 1.5450768869217906, 2.552546146498332, 1.5467481968850834, 1.5207912957253455, 4.828467447559753, 2.380280515454643, 1.5017189857332465, 1.4730711368515736, 4.485274340928996, 1.4516849022687417, 1.5359089547937093, 1.5251644755273266, 2.430646594546559, 1.4435234493419529, 1.467286576839394, 1.5284685345653484, 1.483364891551678, 1.5277870413969543, 2.3830594088122625, 3.9275597335327515, 2.2581750733815698, 2.4166087476711158, 8.764296387875923, 2.09329221760808, 5.6783750400306126, 3.239557414743756, 2.338460394098787, 15.567496977741415, 2.1697253735833475, 4.702647696031656, 5.699095616221606, 3.974483121199041, 4.0465290873854585, 3.0767519654367925, 3.905364059410357, 4.891571514693624, 3.072139046422632, 3.905219392072518, 3.9665095252441143, 5.7334344729954605, 3.0054424752274143, 7.624055136726094, 3.494678264365081, 5.140835661962074, 4.668055481969277, 5.128726505355925, 5.176335463296712, 3.791692078917489, 1.6825072844010664, 1.7871006446049702, 1.6935478896125693, 1.4366354299776307, 1.3068526401960676, 1.6231102514815836, 1.6099311701221892, 1.4217680650969602, 1.2992710545908581, 1.2742052855089452, 1.4992688791472306, 1.3353846789421009, 1.3290587130843148, 3.8030450943497356, 1.2335880867968403, 1.185783481240554, 1.1993580692788586, 1.5197969890843244, 1.3121681491130217, 1.2104650488292295, 1.219698737797432, 1.2534113694682014, 1.1951029425458057, 2.4817587487816835, 0.956728502063307, 0.9525985398405852, 0.9383441544439983, 0.9652077868787223, 0.9504482367360835, 0.960981729625406, 2.440084599962287, 2.4390856110624255, 1.1849667855756993, 7.624055136726094, 5.176335463296712, 5.128726505355925, 2.303924070993363, 5.140835661962074, 5.7334344729954605, 15.567496977741415, 2.8686563653202275, 4.668055481969277, 2.07827062125046, 3.1271565271190247, 3.791692078917489, 8.764296387875923, 4.891571514693624, 3.4671026712946493, 5.699095616221606, 3.9665095252441143, 5.6783750400306126, 8.65993142252985, 3.905219392072518, 3.3841081804836715, 4.702647696031656, 0.7945719813418451, 1.0672577286573592, 1.6231102514815836, 1.4992688791472306, 0.8589046657359598, 0.8475045525291182, 1.8741469991571182, 0.840361121138729, 0.8409105190698696, 0.8100966575877464, 1.5197969890843244, 1.1849667855756993, 0.8232119506726282, 1.1429189492071306, 0.8629711048249734, 0.8596176387614951, 0.8446455443065983, 0.8615442388169069, 0.8987419310788466, 1.219698737797432, 0.889464049915623, 0.8504121406287906, 0.8251262012297931, 0.8793103695660517, 0.8568689953587741, 0.8389550426597544, 0.8896979851843376, 1.1176637938639318, 1.6935478896125693, 1.7941082839205393, 2.9370895464084046, 5.7334344729954605, 7.624055136726094, 1.1779798461732407, 4.668055481969277, 2.440084599962287, 2.25602263600787, 4.0465290873854585, 3.4671026712946493, 5.176335463296712, 3.974483121199041, 2.786119053481424, 4.891571514693624, 1.5906096988318212, 3.8030450943497356, 1.8498757841233069, 2.6580694222986563, 3.791692078917489, 1.9329005346436425, 1.9323739301320935, 3.9665095252441143, 5.128726505355925, 2.0519609274026394, 3.494678264365081, 2.8686563653202275, 15.567496977741415, 5.140835661962074, 5.699095616221606, 4.702647696031656, 5.6783750400306126, 3.905364059410357, 3.072139046422632, 3.0054424752274143, 2.4817587487816835, 3.0767519654367925, 8.764296387875923, 1.5197969890843244, 1.1993580692788586, 1.2104650488292295, 1.185783481240554, 0.8251262012297931, 0.8100966575877464, 1.2534113694682014, 1.6099311701221892, 0.7945719813418451, 0.8389550426597544, 1.4992688791472306, 0.8446455443065983, 1.2335880867968403, 0.8559700362407464, 0.8583803503196199, 0.8654904050713006, 0.846229063252351, 0.8645933192895996, 0.840361121138729, 0.855899476826732, 0.8569444986117848, 0.8846849255855618, 1.3068526401960676, 1.2992710545908581, 0.8765167241559617, 0.8888023118201711, 0.8232119506726282, 0.8611507225471569, 0.8504121406287906, 0.8678786374165347, 1.1849667855756993, 1.3121681491130217, 1.2742052855089452, 1.219698737797432, 5.176335463296712, 1.6935478896125693, 15.567496977741415, 5.128726505355925, 3.8030450943497356, 1.6825072844010664, 7.624055136726094, 1.9329005346436425, 5.7334344729954605, 2.4390856110624255, 2.028673346145702, 2.4817587487816835, 1.8741469991571182, 2.440084599962287, 2.6580694222986563, 4.668055481969277, 3.974483121199041, 3.4671026712946493, 5.140835661962074, 8.764296387875923, 8.65993142252985, 3.9665095252441143, 4.0465290873854585, 3.905219392072518, 5.6783750400306126, 3.791692078917489, 4.891571514693624, 3.1271565271190247, 6.11462503704553, 2.8686563653202275, 5.699095616221606, 5.425881318178754, 1.1951029425458057, 1.4992688791472306, 1.1849667855756993, 0.7945719813418451, 0.8232119506726282, 0.8574121943886188, 0.8442835477838768, 0.8589046657359598, 1.219698737797432, 1.185783481240554, 0.8620534834819792, 1.6825072844010664, 1.6231102514815836, 0.8649424912439206, 0.8601695852651067, 0.859404633937225, 0.8749824192561555, 0.8769881010900237, 0.8629711048249734, 0.8611507225471569, 0.9245390458938367, 0.907740056683948, 0.8100966575877464, 0.919379946372516, 0.8818835525896955, 1.5197969890843244, 0.8878353946988357, 0.8409105190698696, 0.855899476826732, 0.9157370674583578, 1.2104650488292295, 1.6099311701221892, 1.8642605425770622, 1.2335880867968403, 1.1993580692788586, 3.905219392072518, 1.7871006446049702, 15.567496977741415, 4.828467447559753, 1.2534113694682014, 3.8030450943497356, 1.3353846789421009, 8.65993142252985, 2.4390856110624255, 1.6935478896125693, 2.35968405973741, 8.764296387875923, 2.09329221760808, 1.6038478591730025, 6.11462503704553, 2.7327532650287463, 7.624055136726094, 2.1697253735833475, 5.176335463296712, 4.2402298855896845, 2.7269231846811683, 5.425881318178754, 4.412544450933089, 4.8234246417440785, 4.668055481969277, 3.2970002870141073, 5.140835661962074, 5.7334344729954605, 3.1271565271190247, 5.128726505355925, 3.9275597335327515], \"Category\": [\"Default\", \"Default\", \"Default\", \"Default\", \"Default\", \"Default\", \"Default\", \"Default\", \"Default\", \"Default\", \"Default\", \"Default\", \"Default\", \"Default\", \"Default\", \"Default\", \"Default\", \"Default\", \"Default\", \"Default\", \"Default\", \"Default\", \"Default\", \"Default\", \"Default\", \"Default\", \"Default\", \"Default\", \"Default\", \"Default\", \"Topic1\", \"Topic1\", \"Topic1\", \"Topic1\", \"Topic1\", \"Topic1\", \"Topic1\", \"Topic1\", \"Topic1\", \"Topic1\", \"Topic1\", \"Topic1\", \"Topic1\", \"Topic1\", \"Topic1\", \"Topic1\", \"Topic1\", \"Topic1\", \"Topic1\", \"Topic1\", \"Topic1\", \"Topic1\", \"Topic1\", \"Topic1\", \"Topic1\", \"Topic1\", \"Topic1\", \"Topic1\", \"Topic1\", \"Topic1\", \"Topic1\", \"Topic1\", \"Topic1\", \"Topic1\", \"Topic1\", \"Topic1\", \"Topic1\", \"Topic1\", \"Topic1\", \"Topic1\", \"Topic1\", \"Topic1\", \"Topic1\", \"Topic1\", \"Topic1\", \"Topic1\", \"Topic1\", \"Topic1\", \"Topic1\", \"Topic1\", \"Topic1\", \"Topic1\", \"Topic1\", \"Topic1\", \"Topic1\", \"Topic1\", \"Topic1\", \"Topic1\", \"Topic1\", \"Topic1\", \"Topic2\", \"Topic2\", \"Topic2\", \"Topic2\", \"Topic2\", \"Topic2\", \"Topic2\", \"Topic2\", \"Topic2\", \"Topic2\", \"Topic2\", \"Topic2\", \"Topic2\", \"Topic2\", \"Topic2\", \"Topic2\", \"Topic2\", \"Topic2\", \"Topic2\", \"Topic2\", \"Topic2\", \"Topic2\", \"Topic2\", \"Topic2\", \"Topic2\", \"Topic2\", \"Topic2\", \"Topic2\", \"Topic2\", \"Topic2\", \"Topic2\", \"Topic2\", \"Topic2\", \"Topic2\", \"Topic2\", \"Topic2\", \"Topic2\", \"Topic2\", \"Topic2\", \"Topic2\", \"Topic2\", \"Topic2\", \"Topic2\", \"Topic2\", \"Topic2\", \"Topic2\", \"Topic2\", \"Topic2\", \"Topic2\", \"Topic2\", \"Topic2\", \"Topic2\", \"Topic2\", \"Topic2\", \"Topic2\", \"Topic3\", \"Topic3\", \"Topic3\", \"Topic3\", \"Topic3\", \"Topic3\", \"Topic3\", \"Topic3\", \"Topic3\", \"Topic3\", \"Topic3\", \"Topic3\", \"Topic3\", \"Topic3\", \"Topic3\", \"Topic3\", \"Topic3\", \"Topic3\", \"Topic3\", \"Topic3\", \"Topic3\", \"Topic3\", \"Topic3\", \"Topic3\", \"Topic3\", \"Topic3\", \"Topic3\", \"Topic3\", \"Topic3\", \"Topic3\", \"Topic3\", \"Topic3\", \"Topic3\", \"Topic3\", \"Topic3\", \"Topic3\", \"Topic3\", \"Topic3\", \"Topic3\", \"Topic3\", \"Topic3\", \"Topic3\", \"Topic3\", \"Topic3\", \"Topic3\", \"Topic3\", \"Topic3\", \"Topic3\", \"Topic3\", \"Topic3\", \"Topic3\", \"Topic3\", \"Topic3\", \"Topic3\", \"Topic3\", \"Topic3\", \"Topic3\", \"Topic3\", \"Topic3\", \"Topic3\", \"Topic3\", \"Topic3\", \"Topic3\", \"Topic3\", \"Topic3\", \"Topic3\", \"Topic4\", \"Topic4\", \"Topic4\", \"Topic4\", \"Topic4\", \"Topic4\", \"Topic4\", \"Topic4\", \"Topic4\", \"Topic4\", \"Topic4\", \"Topic4\", \"Topic4\", \"Topic4\", \"Topic4\", \"Topic4\", \"Topic4\", \"Topic4\", \"Topic4\", \"Topic4\", \"Topic4\", \"Topic4\", \"Topic4\", \"Topic4\", \"Topic4\", \"Topic4\", \"Topic4\", \"Topic4\", \"Topic4\", \"Topic4\", \"Topic4\", \"Topic4\", \"Topic4\", \"Topic4\", \"Topic4\", \"Topic4\", \"Topic4\", \"Topic4\", \"Topic4\", \"Topic4\", \"Topic4\", \"Topic4\", \"Topic4\", \"Topic4\", \"Topic4\", \"Topic4\", \"Topic4\", \"Topic4\", \"Topic4\", \"Topic4\", \"Topic4\", \"Topic4\", \"Topic4\", \"Topic4\", \"Topic4\", \"Topic4\", \"Topic4\", \"Topic4\", \"Topic4\", \"Topic4\", \"Topic4\", \"Topic4\", \"Topic4\", \"Topic4\", \"Topic4\", \"Topic4\", \"Topic5\", \"Topic5\", \"Topic5\", \"Topic5\", \"Topic5\", \"Topic5\", \"Topic5\", \"Topic5\", \"Topic5\", \"Topic5\", \"Topic5\", \"Topic5\", \"Topic5\", \"Topic5\", \"Topic5\", \"Topic5\", \"Topic5\", \"Topic5\", \"Topic5\", \"Topic5\", \"Topic5\", \"Topic5\", \"Topic5\", \"Topic5\", \"Topic5\", \"Topic5\", \"Topic5\", \"Topic5\", \"Topic5\", \"Topic5\", \"Topic5\", \"Topic5\", \"Topic5\", \"Topic5\", \"Topic5\", \"Topic5\", \"Topic5\", \"Topic5\", \"Topic5\", \"Topic5\", \"Topic5\", \"Topic5\", \"Topic5\", \"Topic5\", \"Topic5\", \"Topic5\", \"Topic5\", \"Topic5\", \"Topic5\", \"Topic5\", \"Topic5\", \"Topic5\", \"Topic5\", \"Topic5\", \"Topic5\", \"Topic5\", \"Topic5\", \"Topic5\", \"Topic5\", \"Topic5\", \"Topic5\", \"Topic5\", \"Topic5\", \"Topic5\", \"Topic5\", \"Topic5\"], \"logprob\": [30.0, 29.0, 28.0, 27.0, 26.0, 25.0, 24.0, 23.0, 22.0, 21.0, 20.0, 19.0, 18.0, 17.0, 16.0, 15.0, 14.0, 13.0, 12.0, 11.0, 10.0, 9.0, 8.0, 7.0, 6.0, 5.0, 4.0, 3.0, 2.0, 1.0, -4.8749, -4.9929, -5.561, -4.6804, -4.8163, -4.3503, -5.6561, -5.0654, -5.319, -5.6798, -5.6655, -6.1028, -6.0907, -5.5889, -6.09, -6.1102, -4.9583, -5.6665, -6.1284, -6.1489, -5.0361, -6.1651, -6.1096, -6.118, -5.6527, -6.1745, -6.1583, -6.1176, -6.1484, -6.1197, -5.676, -5.1854, -5.7349, -5.6766, -4.4413, -5.8166, -4.8772, -5.4048, -5.7126, -3.9468, -5.7834, -5.0744, -4.9194, -5.2608, -5.2516, -5.4867, -5.2983, -5.138, -5.5032, -5.3309, -5.3672, -5.1641, -5.54, -5.0561, -5.4618, -5.2808, -5.3412, -5.364, -5.4429, -5.4856, -5.4206, -5.3766, -5.4602, -5.6293, -5.7364, -5.5231, -5.5375, -5.6675, -5.7631, -5.793, -5.6311, -5.7564, -5.7644, -4.7197, -5.8474, -5.8926, -5.8836, -5.6474, -5.7947, -5.8968, -5.9043, -5.8931, -5.9509, -5.2218, -6.1821, -6.1865, -6.2063, -6.1801, -6.1984, -6.1909, -5.2816, -5.291, -5.9858, -4.256, -4.6389, -4.7298, -5.4212, -4.8214, -4.7515, -4.1122, -5.2986, -4.9941, -5.5446, -5.3911, -5.2988, -4.9072, -5.2356, -5.3959, -5.2237, -5.3927, -5.3688, -5.3341, -5.4805, -5.5163, -5.5407, -6.395, -6.1063, -5.6966, -5.8056, -6.3707, -6.3974, -5.6166, -6.4274, -6.4293, -6.4731, -5.8483, -6.1042, -6.4711, -6.1492, -6.4321, -6.4425, -6.4632, -6.4442, -6.4039, -6.1045, -6.4243, -6.4695, -6.5013, -6.4389, -6.4683, -6.4909, -6.4394, -6.2116, -5.8059, -5.7529, -5.2797, -4.6724, -4.4303, -6.1753, -4.939, -5.5217, -5.6001, -5.0973, -5.2354, -4.9067, -5.1366, -5.4441, -4.9715, -5.9206, -5.2169, -5.8023, -5.5186, -5.2412, -5.7834, -5.7854, -5.2757, -5.1072, -5.7454, -5.4007, -5.5322, -4.5368, -5.2257, -5.181, -5.2937, -5.2563, -5.444, -5.5725, -5.5821, -5.656, -5.5956, -5.3975, -5.4923, -5.7756, -5.7779, -5.8017, -6.2003, -6.2316, -5.8079, -5.5576, -6.2943, -6.2464, -5.6865, -6.2686, -5.8916, -6.2612, -6.263, -6.2562, -6.283, -6.2705, -6.3051, -6.2899, -6.2918, -6.2634, -5.8795, -5.8898, -6.287, -6.2793, -6.356, -6.3111, -6.3247, -6.3044, -6.0014, -5.9031, -5.9413, -5.9843, -4.7245, -5.7123, -3.8408, -4.8112, -5.0625, -5.734, -4.5787, -5.6755, -4.8872, -5.5205, -5.6532, -5.5155, -5.7128, -5.5395, -5.496, -5.2055, -5.3209, -5.4078, -5.2681, -5.0433, -5.0788, -5.4459, -5.4648, -5.4798, -5.3961, -5.5068, -5.5023, -5.6035, -5.4901, -5.6435, -5.586, -5.613, -5.669, -5.4691, -5.7254, -6.2296, -6.1945, -6.1538, -6.1806, -6.183, -5.8384, -5.8676, -6.1897, -5.5258, -5.5682, -6.1992, -6.2155, -6.2194, -6.2093, -6.2161, -6.2335, -6.2367, -6.1664, -6.1875, -6.3023, -6.1791, -6.2246, -5.6841, -6.2295, -6.2843, -6.2686, -6.2012, -5.9311, -5.6571, -5.5541, -5.9409, -5.969, -5.0048, -5.6627, -4.0232, -4.9214, -5.9474, -5.1506, -5.906, -4.5818, -5.4858, -5.7564, -5.5752, -4.7705, -5.6505, -5.8147, -5.0429, -5.5064, -4.9708, -5.6545, -5.2212, -5.3391, -5.5667, -5.2434, -5.3488, -5.383, -5.4355, -5.5471, -5.4464, -5.4633, -5.5967, -5.5515, -5.5966], \"loglift\": [30.0, 29.0, 28.0, 27.0, 26.0, 25.0, 24.0, 23.0, 22.0, 21.0, 20.0, 19.0, 18.0, 17.0, 16.0, 15.0, 14.0, 13.0, 12.0, 11.0, 10.0, 9.0, 8.0, 7.0, 6.0, 5.0, 4.0, 3.0, 2.0, 1.0, 0.3027, 0.2737, 0.2612, 0.26, 0.2437, 0.2421, 0.242, 0.2411, 0.2391, 0.233, 0.2312, 0.231, 0.2254, 0.2251, 0.2249, 0.2216, 0.2183, 0.2174, 0.216, 0.2149, 0.2142, 0.2133, 0.2124, 0.211, 0.2102, 0.2095, 0.2094, 0.2092, 0.2084, 0.2075, 0.2067, 0.1977, 0.2016, 0.1922, 0.1392, 0.1957, 0.1372, 0.1709, 0.189, 0.0591, 0.1931, 0.1286, 0.0914, 0.1105, 0.1016, 0.1405, 0.0904, 0.0256, 0.1255, 0.0579, 0.006, -0.1593, 0.1106, -0.3363, 0.038, -0.1669, -0.1309, -0.2478, -0.3359, -0.0673, 0.8102, 0.7939, 0.764, 0.7595, 0.7471, 0.7437, 0.7374, 0.7317, 0.7262, 0.7158, 0.715, 0.7055, 0.7022, 0.6956, 0.6938, 0.6881, 0.6857, 0.6851, 0.6847, 0.6633, 0.6482, 0.6322, 0.6219, 0.6204, 0.6132, 0.6131, 0.6084, 0.6064, 0.6035, 0.6, 0.5774, 0.5685, 0.5956, 0.4638, 0.4681, 0.3865, 0.4953, 0.2925, 0.2533, -0.1063, 0.3986, 0.2162, 0.475, 0.2199, 0.1195, -0.3268, -0.0721, 0.1119, -0.2129, -0.0195, -0.3543, -0.7417, -0.0917, 0.0157, -0.3378, 0.586, 0.5797, 0.5701, 0.5405, 0.5325, 0.5192, 0.5063, 0.4976, 0.4951, 0.4886, 0.4842, 0.4772, 0.4745, 0.4683, 0.4664, 0.4599, 0.4568, 0.4559, 0.454, 0.448, 0.4439, 0.4437, 0.442, 0.4408, 0.4373, 0.4358, 0.4286, 0.4282, 0.4184, 0.4137, 0.394, 0.3324, 0.2895, 0.412, 0.2714, 0.3373, 0.3374, 0.2559, 0.2724, 0.2003, 0.2346, 0.2824, 0.1921, 0.3664, 0.1984, 0.3337, 0.2549, 0.1771, 0.3087, 0.3069, 0.0975, 0.009, 0.2869, 0.0991, 0.165, -0.5308, -0.1118, -0.1702, -0.0907, -0.2419, -0.0552, 0.0562, 0.0686, 0.1861, 0.0316, -0.8171, 0.8402, 0.7937, 0.7821, 0.779, 0.743, 0.7301, 0.7174, 0.7173, 0.6867, 0.6803, 0.6596, 0.6513, 0.6496, 0.6455, 0.6408, 0.6393, 0.6351, 0.6261, 0.6199, 0.6168, 0.6137, 0.6103, 0.604, 0.5995, 0.5959, 0.5897, 0.5897, 0.5895, 0.5885, 0.5884, 0.58, 0.5763, 0.5675, 0.5682, 0.3825, 0.512, 0.1651, 0.305, 0.3528, 0.4968, 0.1411, 0.4165, 0.1175, 0.339, 0.3905, 0.3267, 0.4102, 0.3196, 0.2775, 0.0049, 0.0503, 0.1, -0.1542, -0.4629, -0.4864, -0.0727, -0.1116, -0.091, -0.3816, -0.0885, -0.3387, 0.0075, -0.5497, 0.0538, -0.5752, -0.5531, 0.9039, 0.877, 0.856, 0.7515, 0.7512, 0.7512, 0.7398, 0.7202, 0.7141, 0.7131, 0.7098, 0.705, 0.6986, 0.697, 0.6863, 0.6832, 0.6753, 0.6662, 0.665, 0.6639, 0.6632, 0.6604, 0.6594, 0.6561, 0.6522, 0.6484, 0.6405, 0.6401, 0.6381, 0.6379, 0.629, 0.6178, 0.5741, 0.6003, 0.6004, 0.384, 0.5078, -0.0173, 0.2552, 0.5778, 0.2647, 0.5559, 0.0106, 0.3736, 0.4679, 0.3174, -0.1901, 0.3618, 0.464, -0.1025, 0.2394, -0.251, 0.322, -0.1142, -0.0326, 0.1812, -0.1835, -0.0821, -0.2054, -0.2251, 0.011, -0.3325, -0.4585, 0.0143, -0.4353, -0.2135]}, \"token.table\": {\"Topic\": [2, 1, 2, 1, 2, 1, 1, 1, 1, 2, 1, 2, 1, 2, 1, 1, 2, 1, 1, 1, 1, 2, 1, 1, 1, 1, 1, 2, 1, 1, 2, 1, 2, 2, 1, 1, 2, 1, 1, 1, 2, 1, 2, 1, 2, 1, 2, 1, 2, 1, 2, 1, 2, 1, 2, 1, 1, 2, 2, 2, 1, 2, 1, 2, 2, 1, 1, 2, 1, 2, 2, 1, 1, 2, 1, 2, 1, 2, 1, 2, 2, 1, 2, 1, 2, 2, 1, 2, 2, 2, 2, 1, 2, 1, 2, 1, 2, 1, 2, 1, 2, 2, 1, 2, 1, 2, 2, 1, 1, 1, 1, 2, 2, 1, 2, 1, 2, 1, 2, 1, 2, 1, 2, 1, 2, 1, 1, 2, 1, 2, 1, 2, 1, 2, 2, 1, 2, 1, 2, 1, 2, 1, 2, 1, 2, 1, 2, 1, 2, 1, 2, 2, 2, 1, 2, 1, 2, 1, 1, 1, 2, 1, 2, 1, 2, 1, 2, 1, 1, 2, 2, 1, 2, 1, 2, 1, 1, 2, 1, 2, 1], \"Freq\": [1.0497601646201844, 0.7638330677409119, 0.254611022580304, 0.6132998344168951, 0.20443327813896503, 0.8402371010536093, 0.8392572978265856, 0.7835313781667245, 0.348595255984371, 0.348595255984371, 0.2629471844774392, 0.5258943689548784, 0.7018657466659465, 0.17546643666648662, 0.8856709223191637, 0.7066004262424412, 0.2569456095427059, 0.8552635764313531, 0.8228263230398178, 0.6465176439279829, 0.7334273334999863, 0.3667136667499932, 0.6542496475299511, 0.5364057100182195, 0.6788538414630276, 0.8292863052906865, 0.8284202065029039, 0.20710505162572598, 0.6741429608421885, 0.8177116290381568, 0.16354232580763134, 0.7682026792374106, 0.25606755974580353, 0.8261287684160787, 0.5174981841799334, 0.9099180281591415, 1.0406025100912204, 0.68885472214884, 0.6927493976324817, 0.6395586478181675, 0.31977932390908376, 0.5173571956119118, 0.5173571956119118, 0.6500361493117853, 0.32501807465589266, 0.7986950338287783, 0.22819858109393665, 0.741376111530279, 0.247125370510093, 0.7681742225212541, 0.25605807417375137, 0.9065064487121822, 0.22662661217804556, 0.5909976553155435, 0.29549882765777175, 0.6472169821867373, 0.5405768368787637, 0.5405768368787637, 0.8367480025359172, 0.7620974496873468, 0.4811692903584987, 0.4811692903584987, 0.5335760751156348, 0.5335760751156348, 0.7488478906259473, 0.9369807996218763, 0.44325796383388394, 0.44325796383388394, 0.5849405299477566, 0.38996035329850437, 0.6161010930016582, 0.8749526820722705, 0.4099897090387149, 0.4099897090387149, 0.5768505261060471, 0.2884252630530236, 0.6654594178678016, 0.3327297089339008, 0.6588256391761369, 1.0452286075342927, 0.5943510671669852, 0.40294005228788193, 0.40294005228788193, 0.7563324834863137, 0.25211082782877126, 1.0521351519721698, 0.623500536089273, 0.623500536089273, 1.0657070705497547, 0.843324279533571, 0.833779357153342, 0.5246551773650566, 0.5246551773650566, 0.43404208176393533, 0.43404208176393533, 0.5573799580339543, 0.5573799580339543, 0.7548151315572692, 0.25160504385242305, 0.38637372214014837, 0.5795605832102225, 0.7033496000853016, 0.6809462116828148, 0.3404731058414074, 0.9260524250462453, 0.30868414168208175, 0.7696623398686435, 0.654541485759452, 0.6510802589430256, 0.8510553766587996, 0.651012200222158, 0.325506100111079, 0.8106433668605054, 0.6286897412573442, 0.6286897412573442, 0.7524257956627903, 0.37621289783139517, 0.7318626330427096, 0.3659313165213548, 0.5904763639301447, 0.5904763639301447, 0.681530122189251, 0.7848028974393858, 0.4237855469987291, 0.4237855469987291, 0.8947234450020517, 0.8918072108765402, 0.22295180271913506, 0.7044268777249407, 0.17610671943123518, 0.6579826168773362, 0.6579826168773362, 0.40982185618296, 0.40982185618296, 0.7978226656937706, 0.4873387142248339, 0.4873387142248339, 0.717844414258206, 0.358922207129103, 0.665903547534713, 0.843905510409867, 0.5232465835495345, 0.3488310556996896, 0.8505846617800887, 0.21264616544502218, 0.4929329810045125, 0.4929329810045125, 0.8523197234060172, 1.0816200834797716, 0.8276060417009574, 0.8198745878886696, 1.0360463452473672, 0.6960708187571085, 0.8083204887499064, 0.11547435553570091, 0.6426658833828627, 0.42844392225524175, 0.655666989394209, 0.6575524220915844, 0.5722987493280339, 0.28614937466401696, 0.6211445672699801, 0.6211445672699801, 0.5835627118364268, 0.3890418078909512, 0.9433450798490667, 0.23583626996226667, 0.8648444095967904, 0.7900349285062652, 0.7524122073428373, 0.7651972144693908, 0.921509282417975, 0.184301856483595, 0.848910958238019, 0.6669917677266737, 0.9554327786520502, 0.5595655751224046, 0.5595655751224046, 0.5274689923056703, 0.2637344961528352, 0.9217756423694108], \"Term\": [\"2022\\u20132023\", \"Act\", \"Act\", \"Budget\", \"Budget\", \"Capitals\", \"Dadra\", \"Daman\", \"FY\", \"FY\", \"GDP\", \"GDP\", \"Government\", \"Government\", \"Haveli\", \"India\", \"India\", \"Indian\", \"January\", \"Ladakh\", \"Minister\", \"Minister\", \"Mumbai\", \"Nagar\", \"Reorganisation\", \"States\", \"Territories\", \"Territories\", \"UT\", \"Union\", \"Union\", \"accord\", \"accord\", \"achieve\", \"addition\", \"administrative\", \"aid\", \"altogether\", \"bag\", \"base\", \"base\", \"boost\", \"boost\", \"budget\", \"budget\", \"capital\", \"capital\", \"cent\", \"cent\", \"change\", \"change\", \"city\", \"city\", \"come\", \"come\", \"complete\", \"compliance\", \"compliance\", \"contact\", \"contribution\", \"current\", \"current\", \"deficit\", \"deficit\", \"demand\", \"design\", \"domestic\", \"domestic\", \"economic\", \"economic\", \"economy\", \"electronic\", \"employment\", \"employment\", \"energy\", \"energy\", \"enhance\", \"enhance\", \"entity\", \"estimate\", \"expect\", \"export\", \"export\", \"focus\", \"focus\", \"fossil\", \"future\", \"future\", \"go\", \"government\", \"grow\", \"growth\", \"growth\", \"high\", \"high\", \"important\", \"important\", \"include\", \"include\", \"increase\", \"increase\", \"indicate\", \"infrastructure\", \"infrastructure\", \"introduce\", \"introduce\", \"large\", \"late\", \"linguistic\", \"list\", \"msme\", \"msme\", \"need\", \"net\", \"net\", \"non\", \"non\", \"number\", \"number\", \"pandemic\", \"pandemic\", \"pass\", \"pen\", \"plan\", \"plan\", \"premium\", \"provide\", \"provide\", \"provision\", \"provision\", \"quarter\", \"quarter\", \"rate\", \"rate\", \"recovery\", \"regard\", \"regard\", \"remain\", \"remain\", \"responsibility\", \"rise\", \"sector\", \"sector\", \"see\", \"see\", \"service\", \"service\", \"session\", \"slowdown\", \"small\", \"source\", \"sowing\", \"spending\", \"state\", \"state\", \"strong\", \"strong\", \"subdivide\", \"summer\", \"supply\", \"supply\", \"support\", \"support\", \"tax\", \"tax\", \"territory\", \"territory\", \"time\", \"total\", \"trade\", \"unicorn\", \"union\", \"union\", \"unregistered\", \"us$\", \"winter\", \"world\", \"world\", \"year\", \"year\", \"\\u00a0\"]}, \"R\": 30, \"lambda.step\": 0.01, \"plot.opts\": {\"xlab\": \"PC1\", \"ylab\": \"PC2\"}, \"topic.order\": [4, 3, 1, 2, 5]};\n",
       "\n",
       "function LDAvis_load_lib(url, callback){\n",
       "  var s = document.createElement('script');\n",
       "  s.src = url;\n",
       "  s.async = true;\n",
       "  s.onreadystatechange = s.onload = callback;\n",
       "  s.onerror = function(){console.warn(\"failed to load library \" + url);};\n",
       "  document.getElementsByTagName(\"head\")[0].appendChild(s);\n",
       "}\n",
       "\n",
       "if(typeof(LDAvis) !== \"undefined\"){\n",
       "   // already loaded: just create the visualization\n",
       "   !function(LDAvis){\n",
       "       new LDAvis(\"#\" + \"ldavis_el107002124648062864894476971\", ldavis_el107002124648062864894476971_data);\n",
       "   }(LDAvis);\n",
       "}else if(typeof define === \"function\" && define.amd){\n",
       "   // require.js is available: use it to load d3/LDAvis\n",
       "   require.config({paths: {d3: \"https://d3js.org/d3.v5\"}});\n",
       "   require([\"d3\"], function(d3){\n",
       "      window.d3 = d3;\n",
       "      LDAvis_load_lib(\"https://cdn.jsdelivr.net/gh/bmabey/pyLDAvis@3.3.1/pyLDAvis/js/ldavis.v3.0.0.js\", function(){\n",
       "        new LDAvis(\"#\" + \"ldavis_el107002124648062864894476971\", ldavis_el107002124648062864894476971_data);\n",
       "      });\n",
       "    });\n",
       "}else{\n",
       "    // require.js not available: dynamically load d3 & LDAvis\n",
       "    LDAvis_load_lib(\"https://d3js.org/d3.v5.js\", function(){\n",
       "         LDAvis_load_lib(\"https://cdn.jsdelivr.net/gh/bmabey/pyLDAvis@3.3.1/pyLDAvis/js/ldavis.v3.0.0.js\", function(){\n",
       "                 new LDAvis(\"#\" + \"ldavis_el107002124648062864894476971\", ldavis_el107002124648062864894476971_data);\n",
       "            })\n",
       "         });\n",
       "}\n",
       "</script>"
      ],
      "text/plain": [
       "PreparedData(topic_coordinates=              x         y  topics  cluster       Freq\n",
       "topic                                                \n",
       "3      0.031469 -0.008629       1        1  66.616257\n",
       "2     -0.017210  0.003978       2        1  30.947133\n",
       "0     -0.014943 -0.017914       3        1   2.294785\n",
       "1     -0.003145  0.002014       4        1   0.071048\n",
       "4      0.003828  0.020551       5        1   0.070777, topic_info=         Term       Freq      Total Category  logprob  loglift\n",
       "18      India  15.000000  15.000000  Default  30.0000  30.0000\n",
       "384     state   8.000000   8.000000  Default  29.0000  29.0000\n",
       "58    capital   8.000000   8.000000  Default  28.0000  28.0000\n",
       "143    growth   7.000000   7.000000  Default  27.0000  27.0000\n",
       "31      Union   6.000000   6.000000  Default  26.0000  26.0000\n",
       "..        ...        ...        ...      ...      ...      ...\n",
       "279       tax   0.002609   5.140836   Topic5  -5.4464  -0.3325\n",
       "253    sector   0.002566   5.733434   Topic5  -5.4633  -0.4585\n",
       "52       base   0.002245   3.127157   Topic5  -5.5967   0.0143\n",
       "107  economic   0.002349   5.128727   Topic5  -5.5515  -0.4353\n",
       "1         Act   0.002245   3.927560   Topic5  -5.5966  -0.2135\n",
       "\n",
       "[343 rows x 6 columns], token_table=      Topic      Freq       Term\n",
       "term                            \n",
       "396       2  1.049760  2022–2023\n",
       "1         1  0.763833        Act\n",
       "1         2  0.254611        Act\n",
       "2         1  0.613300     Budget\n",
       "2         2  0.204433     Budget\n",
       "...     ...       ...        ...\n",
       "532       1  0.559566      world\n",
       "532       2  0.559566      world\n",
       "294       1  0.527469       year\n",
       "294       2  0.263734       year\n",
       "394       1  0.921776           \n",
       "\n",
       "[181 rows x 3 columns], R=30, lambda_step=0.01, plot_opts={'xlab': 'PC1', 'ylab': 'PC2'}, topic_order=[4, 3, 1, 2, 5])"
      ]
     },
     "execution_count": 55,
     "metadata": {},
     "output_type": "execute_result"
    }
   ],
   "source": [
    "plot"
   ]
  },
  {
   "cell_type": "code",
   "execution_count": null,
   "id": "e28b1a29",
   "metadata": {},
   "outputs": [],
   "source": []
  }
 ],
 "metadata": {
  "kernelspec": {
   "display_name": "Python 3 (ipykernel)",
   "language": "python",
   "name": "python3"
  },
  "language_info": {
   "codemirror_mode": {
    "name": "ipython",
    "version": 3
   },
   "file_extension": ".py",
   "mimetype": "text/x-python",
   "name": "python",
   "nbconvert_exporter": "python",
   "pygments_lexer": "ipython3",
   "version": "3.9.12"
  }
 },
 "nbformat": 4,
 "nbformat_minor": 5
}
